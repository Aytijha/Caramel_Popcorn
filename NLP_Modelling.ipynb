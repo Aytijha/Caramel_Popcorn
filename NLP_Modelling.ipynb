{
  "nbformat": 4,
  "nbformat_minor": 0,
  "metadata": {
    "colab": {
      "name": "NLP_Modelling.ipynb",
      "provenance": [],
      "authorship_tag": "ABX9TyP6mcjkWysxKfGJaIZ4hYhb",
      "include_colab_link": true
    },
    "kernelspec": {
      "name": "python3",
      "display_name": "Python 3"
    },
    "language_info": {
      "name": "python"
    }
  },
  "cells": [
    {
      "cell_type": "markdown",
      "metadata": {
        "id": "view-in-github",
        "colab_type": "text"
      },
      "source": [
        "<a href=\"https://colab.research.google.com/github/Aytijha/Caramel_Popcorn/blob/main/NLP_Modelling.ipynb\" target=\"_parent\"><img src=\"https://colab.research.google.com/assets/colab-badge.svg\" alt=\"Open In Colab\"/></a>"
      ]
    },
    {
      "cell_type": "code",
      "metadata": {
        "colab": {
          "base_uri": "https://localhost:8080/"
        },
        "id": "tgd2lqiyyxfC",
        "outputId": "2bd45a6b-7936-4215-edae-691681ef1610"
      },
      "source": [
        "import pandas as pd\n",
        "import numpy as np\n",
        "\n",
        "import re, string\n",
        "import nltk\n",
        "from nltk.tokenize import word_tokenize\n",
        "from nltk.corpus import stopwords\n",
        "from nltk.tokenize import word_tokenize\n",
        "from nltk.stem import SnowballStemmer\n",
        "from nltk.corpus import wordnet\n",
        "from nltk.stem import WordNetLemmatizer\n",
        "nltk.download('punkt')\n",
        "nltk.download('averaged_perceptron_tagger')\n",
        "nltk.download('wordnet')\n",
        "\n",
        "from sklearn.model_selection import train_test_split\n",
        "from sklearn.linear_model import LogisticRegression\n",
        "from sklearn.naive_bayes import MultinomialNB\n",
        "from sklearn.metrics import classification_report, f1_score, accuracy_score, confusion_matrix\n",
        "from sklearn.metrics import roc_curve, auc, roc_auc_score\n",
        "\n",
        "from sklearn.feature_extraction.text import TfidfVectorizer\n",
        "from sklearn.feature_extraction.text import TfidfTransformer\n",
        "from sklearn.feature_extraction.text import CountVectorizer\n",
        "\n",
        "import gensim\n",
        "from gensim.models import Word2Vec"
      ],
      "execution_count": 1,
      "outputs": [
        {
          "output_type": "stream",
          "name": "stdout",
          "text": [
            "[nltk_data] Downloading package punkt to /root/nltk_data...\n",
            "[nltk_data]   Package punkt is already up-to-date!\n",
            "[nltk_data] Downloading package averaged_perceptron_tagger to\n",
            "[nltk_data]     /root/nltk_data...\n",
            "[nltk_data]   Package averaged_perceptron_tagger is already up-to-\n",
            "[nltk_data]       date!\n",
            "[nltk_data] Downloading package wordnet to /root/nltk_data...\n",
            "[nltk_data]   Package wordnet is already up-to-date!\n"
          ]
        }
      ]
    },
    {
      "cell_type": "code",
      "metadata": {
        "colab": {
          "base_uri": "https://localhost:8080/",
          "height": 423
        },
        "id": "vXlKoFkBk7wY",
        "outputId": "0f0ff28e-5cda-4323-efe2-d18ec57e011c"
      },
      "source": [
        "import pandas as pd\n",
        "nlp_df = pd.read_csv('NLP DF.csv')\n",
        "nlp_df"
      ],
      "execution_count": 2,
      "outputs": [
        {
          "output_type": "execute_result",
          "data": {
            "text/html": [
              "<div>\n",
              "<style scoped>\n",
              "    .dataframe tbody tr th:only-of-type {\n",
              "        vertical-align: middle;\n",
              "    }\n",
              "\n",
              "    .dataframe tbody tr th {\n",
              "        vertical-align: top;\n",
              "    }\n",
              "\n",
              "    .dataframe thead th {\n",
              "        text-align: right;\n",
              "    }\n",
              "</style>\n",
              "<table border=\"1\" class=\"dataframe\">\n",
              "  <thead>\n",
              "    <tr style=\"text-align: right;\">\n",
              "      <th></th>\n",
              "      <th>Unnamed: 0</th>\n",
              "      <th>Name of movie</th>\n",
              "      <th>Description</th>\n",
              "      <th>Genre</th>\n",
              "    </tr>\n",
              "  </thead>\n",
              "  <tbody>\n",
              "    <tr>\n",
              "      <th>0</th>\n",
              "      <td>0</td>\n",
              "      <td>The Shawshank Redemption</td>\n",
              "      <td>Two imprisoned men bond over a number of years...</td>\n",
              "      <td>Drama</td>\n",
              "    </tr>\n",
              "    <tr>\n",
              "      <th>1</th>\n",
              "      <td>1</td>\n",
              "      <td>The Godfather</td>\n",
              "      <td>An organized crime dynasty's aging patriarch t...</td>\n",
              "      <td>Crime Drama</td>\n",
              "    </tr>\n",
              "    <tr>\n",
              "      <th>2</th>\n",
              "      <td>2</td>\n",
              "      <td>Soorarai Pottru</td>\n",
              "      <td>Nedumaaran Rajangam \"Maara\" sets out to make t...</td>\n",
              "      <td>Drama</td>\n",
              "    </tr>\n",
              "    <tr>\n",
              "      <th>3</th>\n",
              "      <td>3</td>\n",
              "      <td>The Dark Knight</td>\n",
              "      <td>When the menace known as the Joker wreaks havo...</td>\n",
              "      <td>Action Crime Drama</td>\n",
              "    </tr>\n",
              "    <tr>\n",
              "      <th>4</th>\n",
              "      <td>4</td>\n",
              "      <td>The Godfather: Part II</td>\n",
              "      <td>The early life and career of Vito Corleone in ...</td>\n",
              "      <td>Crime Drama</td>\n",
              "    </tr>\n",
              "    <tr>\n",
              "      <th>...</th>\n",
              "      <td>...</td>\n",
              "      <td>...</td>\n",
              "      <td>...</td>\n",
              "      <td>...</td>\n",
              "    </tr>\n",
              "    <tr>\n",
              "      <th>995</th>\n",
              "      <td>995</td>\n",
              "      <td>Giant</td>\n",
              "      <td>Sprawling epic covering the life of a Texas ca...</td>\n",
              "      <td>Drama Western</td>\n",
              "    </tr>\n",
              "    <tr>\n",
              "      <th>996</th>\n",
              "      <td>996</td>\n",
              "      <td>From Here to Eternity</td>\n",
              "      <td>In Hawaii in 1941, a private is cruelly punish...</td>\n",
              "      <td>Drama Romance War</td>\n",
              "    </tr>\n",
              "    <tr>\n",
              "      <th>997</th>\n",
              "      <td>997</td>\n",
              "      <td>Gilda</td>\n",
              "      <td>A small-time gambler hired to work in a Buenos...</td>\n",
              "      <td>Drama Film-Noir Romance</td>\n",
              "    </tr>\n",
              "    <tr>\n",
              "      <th>998</th>\n",
              "      <td>998</td>\n",
              "      <td>Lifeboat</td>\n",
              "      <td>Several survivors of a torpedoed merchant ship...</td>\n",
              "      <td>Drama War</td>\n",
              "    </tr>\n",
              "    <tr>\n",
              "      <th>999</th>\n",
              "      <td>999</td>\n",
              "      <td>The 39 Steps</td>\n",
              "      <td>A man in London tries to help a counter-espion...</td>\n",
              "      <td>Crime Mystery Thriller</td>\n",
              "    </tr>\n",
              "  </tbody>\n",
              "</table>\n",
              "<p>1000 rows × 4 columns</p>\n",
              "</div>"
            ],
            "text/plain": [
              "     Unnamed: 0  ...                    Genre\n",
              "0             0  ...                    Drama\n",
              "1             1  ...              Crime Drama\n",
              "2             2  ...                    Drama\n",
              "3             3  ...       Action Crime Drama\n",
              "4             4  ...              Crime Drama\n",
              "..          ...  ...                      ...\n",
              "995         995  ...            Drama Western\n",
              "996         996  ...        Drama Romance War\n",
              "997         997  ...  Drama Film-Noir Romance\n",
              "998         998  ...                Drama War\n",
              "999         999  ...   Crime Mystery Thriller\n",
              "\n",
              "[1000 rows x 4 columns]"
            ]
          },
          "metadata": {},
          "execution_count": 2
        }
      ]
    },
    {
      "cell_type": "code",
      "metadata": {
        "id": "IyscKIXZlVoi"
      },
      "source": [
        "nlp_df.drop('Unnamed: 0', inplace=True, axis=1)"
      ],
      "execution_count": 3,
      "outputs": []
    },
    {
      "cell_type": "code",
      "metadata": {
        "colab": {
          "base_uri": "https://localhost:8080/",
          "height": 423
        },
        "id": "gkjUz6K-ld9H",
        "outputId": "96306556-27f0-422f-9006-54f078ccb471"
      },
      "source": [
        "nlp_df"
      ],
      "execution_count": 4,
      "outputs": [
        {
          "output_type": "execute_result",
          "data": {
            "text/html": [
              "<div>\n",
              "<style scoped>\n",
              "    .dataframe tbody tr th:only-of-type {\n",
              "        vertical-align: middle;\n",
              "    }\n",
              "\n",
              "    .dataframe tbody tr th {\n",
              "        vertical-align: top;\n",
              "    }\n",
              "\n",
              "    .dataframe thead th {\n",
              "        text-align: right;\n",
              "    }\n",
              "</style>\n",
              "<table border=\"1\" class=\"dataframe\">\n",
              "  <thead>\n",
              "    <tr style=\"text-align: right;\">\n",
              "      <th></th>\n",
              "      <th>Name of movie</th>\n",
              "      <th>Description</th>\n",
              "      <th>Genre</th>\n",
              "    </tr>\n",
              "  </thead>\n",
              "  <tbody>\n",
              "    <tr>\n",
              "      <th>0</th>\n",
              "      <td>The Shawshank Redemption</td>\n",
              "      <td>Two imprisoned men bond over a number of years...</td>\n",
              "      <td>Drama</td>\n",
              "    </tr>\n",
              "    <tr>\n",
              "      <th>1</th>\n",
              "      <td>The Godfather</td>\n",
              "      <td>An organized crime dynasty's aging patriarch t...</td>\n",
              "      <td>Crime Drama</td>\n",
              "    </tr>\n",
              "    <tr>\n",
              "      <th>2</th>\n",
              "      <td>Soorarai Pottru</td>\n",
              "      <td>Nedumaaran Rajangam \"Maara\" sets out to make t...</td>\n",
              "      <td>Drama</td>\n",
              "    </tr>\n",
              "    <tr>\n",
              "      <th>3</th>\n",
              "      <td>The Dark Knight</td>\n",
              "      <td>When the menace known as the Joker wreaks havo...</td>\n",
              "      <td>Action Crime Drama</td>\n",
              "    </tr>\n",
              "    <tr>\n",
              "      <th>4</th>\n",
              "      <td>The Godfather: Part II</td>\n",
              "      <td>The early life and career of Vito Corleone in ...</td>\n",
              "      <td>Crime Drama</td>\n",
              "    </tr>\n",
              "    <tr>\n",
              "      <th>...</th>\n",
              "      <td>...</td>\n",
              "      <td>...</td>\n",
              "      <td>...</td>\n",
              "    </tr>\n",
              "    <tr>\n",
              "      <th>995</th>\n",
              "      <td>Giant</td>\n",
              "      <td>Sprawling epic covering the life of a Texas ca...</td>\n",
              "      <td>Drama Western</td>\n",
              "    </tr>\n",
              "    <tr>\n",
              "      <th>996</th>\n",
              "      <td>From Here to Eternity</td>\n",
              "      <td>In Hawaii in 1941, a private is cruelly punish...</td>\n",
              "      <td>Drama Romance War</td>\n",
              "    </tr>\n",
              "    <tr>\n",
              "      <th>997</th>\n",
              "      <td>Gilda</td>\n",
              "      <td>A small-time gambler hired to work in a Buenos...</td>\n",
              "      <td>Drama Film-Noir Romance</td>\n",
              "    </tr>\n",
              "    <tr>\n",
              "      <th>998</th>\n",
              "      <td>Lifeboat</td>\n",
              "      <td>Several survivors of a torpedoed merchant ship...</td>\n",
              "      <td>Drama War</td>\n",
              "    </tr>\n",
              "    <tr>\n",
              "      <th>999</th>\n",
              "      <td>The 39 Steps</td>\n",
              "      <td>A man in London tries to help a counter-espion...</td>\n",
              "      <td>Crime Mystery Thriller</td>\n",
              "    </tr>\n",
              "  </tbody>\n",
              "</table>\n",
              "<p>1000 rows × 3 columns</p>\n",
              "</div>"
            ],
            "text/plain": [
              "                Name of movie  ...                    Genre\n",
              "0    The Shawshank Redemption  ...                    Drama\n",
              "1               The Godfather  ...              Crime Drama\n",
              "2             Soorarai Pottru  ...                    Drama\n",
              "3             The Dark Knight  ...       Action Crime Drama\n",
              "4      The Godfather: Part II  ...              Crime Drama\n",
              "..                        ...  ...                      ...\n",
              "995                     Giant  ...            Drama Western\n",
              "996     From Here to Eternity  ...        Drama Romance War\n",
              "997                     Gilda  ...  Drama Film-Noir Romance\n",
              "998                  Lifeboat  ...                Drama War\n",
              "999              The 39 Steps  ...   Crime Mystery Thriller\n",
              "\n",
              "[1000 rows x 3 columns]"
            ]
          },
          "metadata": {},
          "execution_count": 4
        }
      ]
    },
    {
      "cell_type": "code",
      "metadata": {
        "id": "-eqYcPcSlfis"
      },
      "source": [
        "d = dict(nlp_df['Genre'].value_counts())\n",
        "#d"
      ],
      "execution_count": 5,
      "outputs": []
    },
    {
      "cell_type": "code",
      "metadata": {
        "colab": {
          "base_uri": "https://localhost:8080/",
          "height": 423
        },
        "id": "lRQos7gTlopr",
        "outputId": "bab9e369-2dbb-4061-ff97-571a732c74e7"
      },
      "source": [
        "nlp_df['Text'] = nlp_df['Name of movie'] + ' ' + nlp_df['Description']\n",
        "nlp_df"
      ],
      "execution_count": 6,
      "outputs": [
        {
          "output_type": "execute_result",
          "data": {
            "text/html": [
              "<div>\n",
              "<style scoped>\n",
              "    .dataframe tbody tr th:only-of-type {\n",
              "        vertical-align: middle;\n",
              "    }\n",
              "\n",
              "    .dataframe tbody tr th {\n",
              "        vertical-align: top;\n",
              "    }\n",
              "\n",
              "    .dataframe thead th {\n",
              "        text-align: right;\n",
              "    }\n",
              "</style>\n",
              "<table border=\"1\" class=\"dataframe\">\n",
              "  <thead>\n",
              "    <tr style=\"text-align: right;\">\n",
              "      <th></th>\n",
              "      <th>Name of movie</th>\n",
              "      <th>Description</th>\n",
              "      <th>Genre</th>\n",
              "      <th>Text</th>\n",
              "    </tr>\n",
              "  </thead>\n",
              "  <tbody>\n",
              "    <tr>\n",
              "      <th>0</th>\n",
              "      <td>The Shawshank Redemption</td>\n",
              "      <td>Two imprisoned men bond over a number of years...</td>\n",
              "      <td>Drama</td>\n",
              "      <td>The Shawshank Redemption Two imprisoned men bo...</td>\n",
              "    </tr>\n",
              "    <tr>\n",
              "      <th>1</th>\n",
              "      <td>The Godfather</td>\n",
              "      <td>An organized crime dynasty's aging patriarch t...</td>\n",
              "      <td>Crime Drama</td>\n",
              "      <td>The Godfather An organized crime dynasty's agi...</td>\n",
              "    </tr>\n",
              "    <tr>\n",
              "      <th>2</th>\n",
              "      <td>Soorarai Pottru</td>\n",
              "      <td>Nedumaaran Rajangam \"Maara\" sets out to make t...</td>\n",
              "      <td>Drama</td>\n",
              "      <td>Soorarai Pottru Nedumaaran Rajangam \"Maara\" se...</td>\n",
              "    </tr>\n",
              "    <tr>\n",
              "      <th>3</th>\n",
              "      <td>The Dark Knight</td>\n",
              "      <td>When the menace known as the Joker wreaks havo...</td>\n",
              "      <td>Action Crime Drama</td>\n",
              "      <td>The Dark Knight When the menace known as the J...</td>\n",
              "    </tr>\n",
              "    <tr>\n",
              "      <th>4</th>\n",
              "      <td>The Godfather: Part II</td>\n",
              "      <td>The early life and career of Vito Corleone in ...</td>\n",
              "      <td>Crime Drama</td>\n",
              "      <td>The Godfather: Part II The early life and care...</td>\n",
              "    </tr>\n",
              "    <tr>\n",
              "      <th>...</th>\n",
              "      <td>...</td>\n",
              "      <td>...</td>\n",
              "      <td>...</td>\n",
              "      <td>...</td>\n",
              "    </tr>\n",
              "    <tr>\n",
              "      <th>995</th>\n",
              "      <td>Giant</td>\n",
              "      <td>Sprawling epic covering the life of a Texas ca...</td>\n",
              "      <td>Drama Western</td>\n",
              "      <td>Giant Sprawling epic covering the life of a Te...</td>\n",
              "    </tr>\n",
              "    <tr>\n",
              "      <th>996</th>\n",
              "      <td>From Here to Eternity</td>\n",
              "      <td>In Hawaii in 1941, a private is cruelly punish...</td>\n",
              "      <td>Drama Romance War</td>\n",
              "      <td>From Here to Eternity In Hawaii in 1941, a pri...</td>\n",
              "    </tr>\n",
              "    <tr>\n",
              "      <th>997</th>\n",
              "      <td>Gilda</td>\n",
              "      <td>A small-time gambler hired to work in a Buenos...</td>\n",
              "      <td>Drama Film-Noir Romance</td>\n",
              "      <td>Gilda A small-time gambler hired to work in a ...</td>\n",
              "    </tr>\n",
              "    <tr>\n",
              "      <th>998</th>\n",
              "      <td>Lifeboat</td>\n",
              "      <td>Several survivors of a torpedoed merchant ship...</td>\n",
              "      <td>Drama War</td>\n",
              "      <td>Lifeboat Several survivors of a torpedoed merc...</td>\n",
              "    </tr>\n",
              "    <tr>\n",
              "      <th>999</th>\n",
              "      <td>The 39 Steps</td>\n",
              "      <td>A man in London tries to help a counter-espion...</td>\n",
              "      <td>Crime Mystery Thriller</td>\n",
              "      <td>The 39 Steps A man in London tries to help a c...</td>\n",
              "    </tr>\n",
              "  </tbody>\n",
              "</table>\n",
              "<p>1000 rows × 4 columns</p>\n",
              "</div>"
            ],
            "text/plain": [
              "                Name of movie  ...                                               Text\n",
              "0    The Shawshank Redemption  ...  The Shawshank Redemption Two imprisoned men bo...\n",
              "1               The Godfather  ...  The Godfather An organized crime dynasty's agi...\n",
              "2             Soorarai Pottru  ...  Soorarai Pottru Nedumaaran Rajangam \"Maara\" se...\n",
              "3             The Dark Knight  ...  The Dark Knight When the menace known as the J...\n",
              "4      The Godfather: Part II  ...  The Godfather: Part II The early life and care...\n",
              "..                        ...  ...                                                ...\n",
              "995                     Giant  ...  Giant Sprawling epic covering the life of a Te...\n",
              "996     From Here to Eternity  ...  From Here to Eternity In Hawaii in 1941, a pri...\n",
              "997                     Gilda  ...  Gilda A small-time gambler hired to work in a ...\n",
              "998                  Lifeboat  ...  Lifeboat Several survivors of a torpedoed merc...\n",
              "999              The 39 Steps  ...  The 39 Steps A man in London tries to help a c...\n",
              "\n",
              "[1000 rows x 4 columns]"
            ]
          },
          "metadata": {},
          "execution_count": 6
        }
      ]
    },
    {
      "cell_type": "code",
      "metadata": {
        "id": "StYW7Zstnl65"
      },
      "source": [
        "# converting text to lowercase, stripping and removing punctuations\n",
        "def preprocess(text):\n",
        "    text = text.lower() \n",
        "    text=text.strip()  \n",
        "    text=re.compile('<.*?>').sub('', text) \n",
        "    text = re.compile('[%s]' % re.escape(string.punctuation)).sub(' ', text)  \n",
        "    text = re.sub('\\s+', ' ', text)  \n",
        "    text = re.sub(r'\\[[0-9]*\\]',' ',text) \n",
        "    text=re.sub(r'[^\\w\\s]', '', str(text).lower().strip())\n",
        "    text = re.sub(r'\\d',' ',text) \n",
        "    text = re.sub(r'\\s+',' ',text) \n",
        "    return text"
      ],
      "execution_count": 7,
      "outputs": []
    },
    {
      "cell_type": "code",
      "metadata": {
        "id": "ix4VNvYCv3U1"
      },
      "source": [
        "# removing stopwords\n",
        "def stopword(string):\n",
        "    a= [i for i in string.split() if i not in stopwords.words('english')]\n",
        "    return ' '.join(a)"
      ],
      "execution_count": 8,
      "outputs": []
    },
    {
      "cell_type": "code",
      "metadata": {
        "id": "OtSrzspyv9LI"
      },
      "source": [
        "# lemmatization\n",
        "wl = WordNetLemmatizer()\n",
        " \n",
        "# helper function to map NTLK position tags\n",
        "def get_wordnet_pos(tag):\n",
        "    if tag.startswith('J'):\n",
        "        return wordnet.ADJ\n",
        "    elif tag.startswith('V'):\n",
        "        return wordnet.VERB\n",
        "    elif tag.startswith('N'):\n",
        "        return wordnet.NOUN\n",
        "    elif tag.startswith('R'):\n",
        "        return wordnet.ADV\n",
        "    else:\n",
        "        return wordnet.NOUN\n",
        "\n",
        "# to tokenize the sentence\n",
        "def lemmatizer(string):\n",
        "    word_pos_tags = nltk.pos_tag(word_tokenize(string)) # Get position tags\n",
        "    a=[wl.lemmatize(tag[0], get_wordnet_pos(tag[1])) for idx, tag in enumerate(word_pos_tags)] # Map the position tag and lemmatize the word/token\n",
        "    return \" \".join(a)"
      ],
      "execution_count": 9,
      "outputs": []
    },
    {
      "cell_type": "code",
      "metadata": {
        "colab": {
          "base_uri": "https://localhost:8080/"
        },
        "id": "jwJ2TApI3J-i",
        "outputId": "5a60f72f-0b9a-465e-c45f-16b9ab0aaa92"
      },
      "source": [
        "nltk.download('stopwords')"
      ],
      "execution_count": 10,
      "outputs": [
        {
          "output_type": "stream",
          "name": "stdout",
          "text": [
            "[nltk_data] Downloading package stopwords to /root/nltk_data...\n",
            "[nltk_data]   Package stopwords is already up-to-date!\n"
          ]
        },
        {
          "output_type": "execute_result",
          "data": {
            "text/plain": [
              "True"
            ]
          },
          "metadata": {},
          "execution_count": 10
        }
      ]
    },
    {
      "cell_type": "code",
      "metadata": {
        "colab": {
          "base_uri": "https://localhost:8080/",
          "height": 493
        },
        "id": "b1n_5YSuym0i",
        "outputId": "32c917c4-5b0d-42d5-da3a-513c6b219067"
      },
      "source": [
        "def finalpreprocess(string):\n",
        "    return lemmatizer(stopword(preprocess(string)))\n",
        "nlp_df['clean_text'] = nlp_df['Text'].apply(lambda x: finalpreprocess(x))\n",
        "nlp_df"
      ],
      "execution_count": 11,
      "outputs": [
        {
          "output_type": "execute_result",
          "data": {
            "text/html": [
              "<div>\n",
              "<style scoped>\n",
              "    .dataframe tbody tr th:only-of-type {\n",
              "        vertical-align: middle;\n",
              "    }\n",
              "\n",
              "    .dataframe tbody tr th {\n",
              "        vertical-align: top;\n",
              "    }\n",
              "\n",
              "    .dataframe thead th {\n",
              "        text-align: right;\n",
              "    }\n",
              "</style>\n",
              "<table border=\"1\" class=\"dataframe\">\n",
              "  <thead>\n",
              "    <tr style=\"text-align: right;\">\n",
              "      <th></th>\n",
              "      <th>Name of movie</th>\n",
              "      <th>Description</th>\n",
              "      <th>Genre</th>\n",
              "      <th>Text</th>\n",
              "      <th>clean_text</th>\n",
              "    </tr>\n",
              "  </thead>\n",
              "  <tbody>\n",
              "    <tr>\n",
              "      <th>0</th>\n",
              "      <td>The Shawshank Redemption</td>\n",
              "      <td>Two imprisoned men bond over a number of years...</td>\n",
              "      <td>Drama</td>\n",
              "      <td>The Shawshank Redemption Two imprisoned men bo...</td>\n",
              "      <td>shawshank redemption two imprisoned men bond n...</td>\n",
              "    </tr>\n",
              "    <tr>\n",
              "      <th>1</th>\n",
              "      <td>The Godfather</td>\n",
              "      <td>An organized crime dynasty's aging patriarch t...</td>\n",
              "      <td>Crime Drama</td>\n",
              "      <td>The Godfather An organized crime dynasty's agi...</td>\n",
              "      <td>godfather organize crime dynasty age patriarch...</td>\n",
              "    </tr>\n",
              "    <tr>\n",
              "      <th>2</th>\n",
              "      <td>Soorarai Pottru</td>\n",
              "      <td>Nedumaaran Rajangam \"Maara\" sets out to make t...</td>\n",
              "      <td>Drama</td>\n",
              "      <td>Soorarai Pottru Nedumaaran Rajangam \"Maara\" se...</td>\n",
              "      <td>soorarai pottru nedumaaran rajangam maara set ...</td>\n",
              "    </tr>\n",
              "    <tr>\n",
              "      <th>3</th>\n",
              "      <td>The Dark Knight</td>\n",
              "      <td>When the menace known as the Joker wreaks havo...</td>\n",
              "      <td>Action Crime Drama</td>\n",
              "      <td>The Dark Knight When the menace known as the J...</td>\n",
              "      <td>dark knight menace know joker wreaks havoc cha...</td>\n",
              "    </tr>\n",
              "    <tr>\n",
              "      <th>4</th>\n",
              "      <td>The Godfather: Part II</td>\n",
              "      <td>The early life and career of Vito Corleone in ...</td>\n",
              "      <td>Crime Drama</td>\n",
              "      <td>The Godfather: Part II The early life and care...</td>\n",
              "      <td>godfather part ii early life career vito corle...</td>\n",
              "    </tr>\n",
              "    <tr>\n",
              "      <th>...</th>\n",
              "      <td>...</td>\n",
              "      <td>...</td>\n",
              "      <td>...</td>\n",
              "      <td>...</td>\n",
              "      <td>...</td>\n",
              "    </tr>\n",
              "    <tr>\n",
              "      <th>995</th>\n",
              "      <td>Giant</td>\n",
              "      <td>Sprawling epic covering the life of a Texas ca...</td>\n",
              "      <td>Drama Western</td>\n",
              "      <td>Giant Sprawling epic covering the life of a Te...</td>\n",
              "      <td>giant sprawl epic cover life texas cattle ranc...</td>\n",
              "    </tr>\n",
              "    <tr>\n",
              "      <th>996</th>\n",
              "      <td>From Here to Eternity</td>\n",
              "      <td>In Hawaii in 1941, a private is cruelly punish...</td>\n",
              "      <td>Drama Romance War</td>\n",
              "      <td>From Here to Eternity In Hawaii in 1941, a pri...</td>\n",
              "      <td>eternity hawaii private cruelly punish box uni...</td>\n",
              "    </tr>\n",
              "    <tr>\n",
              "      <th>997</th>\n",
              "      <td>Gilda</td>\n",
              "      <td>A small-time gambler hired to work in a Buenos...</td>\n",
              "      <td>Drama Film-Noir Romance</td>\n",
              "      <td>Gilda A small-time gambler hired to work in a ...</td>\n",
              "      <td>gilda small time gambler hire work buenos air ...</td>\n",
              "    </tr>\n",
              "    <tr>\n",
              "      <th>998</th>\n",
              "      <td>Lifeboat</td>\n",
              "      <td>Several survivors of a torpedoed merchant ship...</td>\n",
              "      <td>Drama War</td>\n",
              "      <td>Lifeboat Several survivors of a torpedoed merc...</td>\n",
              "      <td>lifeboat several survivor torpedo merchant shi...</td>\n",
              "    </tr>\n",
              "    <tr>\n",
              "      <th>999</th>\n",
              "      <td>The 39 Steps</td>\n",
              "      <td>A man in London tries to help a counter-espion...</td>\n",
              "      <td>Crime Mystery Thriller</td>\n",
              "      <td>The 39 Steps A man in London tries to help a c...</td>\n",
              "      <td>step man london try help counter espionage age...</td>\n",
              "    </tr>\n",
              "  </tbody>\n",
              "</table>\n",
              "<p>1000 rows × 5 columns</p>\n",
              "</div>"
            ],
            "text/plain": [
              "                Name of movie  ...                                         clean_text\n",
              "0    The Shawshank Redemption  ...  shawshank redemption two imprisoned men bond n...\n",
              "1               The Godfather  ...  godfather organize crime dynasty age patriarch...\n",
              "2             Soorarai Pottru  ...  soorarai pottru nedumaaran rajangam maara set ...\n",
              "3             The Dark Knight  ...  dark knight menace know joker wreaks havoc cha...\n",
              "4      The Godfather: Part II  ...  godfather part ii early life career vito corle...\n",
              "..                        ...  ...                                                ...\n",
              "995                     Giant  ...  giant sprawl epic cover life texas cattle ranc...\n",
              "996     From Here to Eternity  ...  eternity hawaii private cruelly punish box uni...\n",
              "997                     Gilda  ...  gilda small time gambler hire work buenos air ...\n",
              "998                  Lifeboat  ...  lifeboat several survivor torpedo merchant shi...\n",
              "999              The 39 Steps  ...  step man london try help counter espionage age...\n",
              "\n",
              "[1000 rows x 5 columns]"
            ]
          },
          "metadata": {},
          "execution_count": 11
        }
      ]
    },
    {
      "cell_type": "code",
      "metadata": {
        "colab": {
          "base_uri": "https://localhost:8080/"
        },
        "id": "Qnzt-avB2-MM",
        "outputId": "85c69b23-904e-4f0c-93f7-5a5d94bab34f"
      },
      "source": [
        "from sklearn.model_selection import train_test_split\n",
        "X_train, X_test, y_train, y_test = train_test_split(nlp_df['clean_text'], nlp_df['Genre'], test_size=0.15)\n",
        "print(X_train.shape, X_test.shape, y_train.shape, y_test.shape)"
      ],
      "execution_count": 12,
      "outputs": [
        {
          "output_type": "stream",
          "name": "stdout",
          "text": [
            "(850,) (150,) (850,) (150,)\n"
          ]
        }
      ]
    },
    {
      "cell_type": "code",
      "metadata": {
        "id": "BTmqMgbU4gBk"
      },
      "source": [
        "#Tf-Idf\n",
        "tfidf_vectorizer = TfidfVectorizer(use_idf=True)\n",
        "X_train_vectors_tfidf = tfidf_vectorizer.fit_transform(X_train) \n",
        "X_test_vectors_tfidf = tfidf_vectorizer.transform(X_test)"
      ],
      "execution_count": 13,
      "outputs": []
    },
    {
      "cell_type": "code",
      "metadata": {
        "colab": {
          "base_uri": "https://localhost:8080/",
          "height": 53
        },
        "id": "lei4Ap9t6MLr",
        "outputId": "1286f7eb-d391-4f07-b19e-e8257eef221c"
      },
      "source": [
        "#FITTING THE CLASSIFICATION MODEL using Naive Bayes(tf-idf)\n",
        "nb_tfidf = MultinomialNB()\n",
        "nb_tfidf.fit(X_train_vectors_tfidf, y_train)  \n",
        "#Predict y value for test dataset\n",
        "y_predict = nb_tfidf.predict(X_test_vectors_tfidf)\n",
        "y_prob = nb_tfidf.predict_proba(X_test_vectors_tfidf)[:,1]\n",
        "#print(classification_report(y_test,y_predict))\n",
        "#print('Confusion Matrix:',confusion_matrix(y_test, y_predict))\n",
        "\n",
        "print(accuracy_score(y_test, y_predict))\n",
        " \n",
        "'''fpr, tpr, thresholds = roc_curve(y_test, y_prob)\n",
        "roc_auc = auc(fpr, tpr)\n",
        "print('AUC:', roc_auc)'''"
      ],
      "execution_count": 14,
      "outputs": [
        {
          "output_type": "stream",
          "name": "stdout",
          "text": [
            "0.08666666666666667\n"
          ]
        },
        {
          "output_type": "execute_result",
          "data": {
            "application/vnd.google.colaboratory.intrinsic+json": {
              "type": "string"
            },
            "text/plain": [
              "\"fpr, tpr, thresholds = roc_curve(y_test, y_prob)\\nroc_auc = auc(fpr, tpr)\\nprint('AUC:', roc_auc)\""
            ]
          },
          "metadata": {},
          "execution_count": 14
        }
      ]
    },
    {
      "cell_type": "code",
      "metadata": {
        "colab": {
          "base_uri": "https://localhost:8080/"
        },
        "id": "Q-F-XeIu5uXQ",
        "outputId": "1ed956c8-5ec5-4144-aa3a-dcc1bc56c321"
      },
      "source": [
        "#FITTING THE CLASSIFICATION MODEL using Logistic Regression(tf-idf)\n",
        "lr_tfidf=LogisticRegression()\n",
        "lr_tfidf.fit(X_train_vectors_tfidf, y_train)  \n",
        "#Predict y value for test dataset\n",
        "y_predict = lr_tfidf.predict(X_test_vectors_tfidf)\n",
        "y_prob = lr_tfidf.predict_proba(X_test_vectors_tfidf)[:,1]\n",
        "#print(classification_report(y_test,y_predict))\n",
        "#print('Confusion Matrix:',confusion_matrix(y_test, y_predict))\n",
        "\n",
        "print(accuracy_score(y_test, y_predict))"
      ],
      "execution_count": 15,
      "outputs": [
        {
          "output_type": "stream",
          "name": "stdout",
          "text": [
            "0.09333333333333334\n"
          ]
        }
      ]
    },
    {
      "cell_type": "code",
      "source": [
        "nlp_df['Genre'].describe()"
      ],
      "metadata": {
        "id": "Uqx5Jh5pUK4G",
        "outputId": "d055e676-4b5c-45f7-abd0-ca13e09b7a05",
        "colab": {
          "base_uri": "https://localhost:8080/"
        }
      },
      "execution_count": 16,
      "outputs": [
        {
          "output_type": "execute_result",
          "data": {
            "text/plain": [
              "count      1000\n",
              "unique      205\n",
              "top       Drama\n",
              "freq         88\n",
              "Name: Genre, dtype: object"
            ]
          },
          "metadata": {},
          "execution_count": 16
        }
      ]
    },
    {
      "cell_type": "code",
      "source": [
        "from collections import Counter\n",
        "counter = Counter(nlp_df['Genre'].tolist())\n",
        "top_40_genres = {i[0]: idx for idx, i in enumerate(counter.most_common(40))}\n",
        "nlp_df = nlp_df[nlp_df['Genre'].map(lambda x: x in top_40_genres)]"
      ],
      "metadata": {
        "id": "ZNsZWlABb87E"
      },
      "execution_count": 30,
      "outputs": []
    },
    {
      "cell_type": "code",
      "source": [
        "description_list = nlp_df['clean_text'].tolist()\n",
        "genre_list = [top_40_genres[i] for i in nlp_df['Genre'].tolist()]\n",
        "genre_list = np.array(genre_list)\n",
        "genre_list"
      ],
      "metadata": {
        "colab": {
          "base_uri": "https://localhost:8080/"
        },
        "id": "R_Fg2ueyb8zC",
        "outputId": "38552391-0a4e-4192-8828-70b9f2fd106c"
      },
      "execution_count": 31,
      "outputs": [
        {
          "output_type": "execute_result",
          "data": {
            "text/plain": [
              "array([ 0,  9,  0,  5,  9,  9, 11, 14,  9,  8, 10, 28,  0, 14,  1, 14, 13,\n",
              "       23,  0,  6,  9, 33, 11,  3,  4,  6, 23, 14,  5, 29,  6, 30, 14,  0,\n",
              "        5, 24,  1,  0, 21, 34,  3,  8,  0,  6,  8, 28, 17, 14, 10,  7,  2,\n",
              "       33, 22, 21, 17,  9,  4, 15,  4, 11,  3,  5,  5,  6,  0,  0, 17,  0,\n",
              "       31, 35,  0,  0,  1,  7,  8,  6, 11, 10,  8,  9, 23, 12,  9, 36,  3,\n",
              "        0,  0, 37, 34, 29,  4,  7,  0,  4, 25, 11, 26,  5,  0,  2, 32, 21,\n",
              "        7,  0,  4, 13,  0,  7,  0,  8, 33, 18,  4,  6,  6,  9, 12, 26,  9,\n",
              "        8, 19, 22, 11,  1,  0,  4,  0, 25,  1,  6, 33, 12,  4,  0,  5, 16,\n",
              "        7,  0, 22,  8,  7,  3,  8, 28, 28, 13, 24, 21,  4, 10,  5, 23,  0,\n",
              "       17, 36,  6,  3,  0, 12, 38,  8,  1,  2,  4,  3,  5,  7, 13, 16,  7,\n",
              "       22,  0, 27,  2,  1,  0,  6,  9,  1,  1, 32, 12, 10, 13, 27,  2, 39,\n",
              "       11,  0,  0, 18, 37, 15, 11, 38,  0, 18, 12,  0,  4,  9, 16,  8, 11,\n",
              "       11,  0,  8,  9,  0,  6,  6,  5, 27,  3, 32,  2, 11, 31, 11,  8, 31,\n",
              "        1, 19, 23,  2, 36, 19, 18,  7, 24,  6,  0, 20, 19, 14,  5,  8,  0,\n",
              "       19,  3, 28,  0,  1, 16,  5, 10, 18, 18, 18,  7, 20,  0,  1, 18,  8,\n",
              "        5, 23, 17,  3,  9,  2,  0, 18,  0, 17,  0,  2,  9,  0,  7,  2,  0,\n",
              "       11, 24,  0,  8,  2, 31,  8, 13, 15, 13, 21,  1,  0, 13,  3,  0,  0,\n",
              "        0, 38,  2,  4,  0,  0, 31,  0, 35,  4,  1, 39,  2, 12,  9,  3,  2,\n",
              "        1,  0,  7, 25, 26,  2, 19, 37, 27,  1, 10,  9, 30,  1,  3, 10,  0,\n",
              "        9, 38,  3,  0,  0, 10, 12, 14,  7,  2, 10,  1,  4, 39, 32,  6,  0,\n",
              "       25, 22,  7,  7,  0,  9, 17,  6, 18, 24,  2,  6,  2, 37, 19,  3,  2,\n",
              "       15,  3,  8,  4, 16, 36, 32,  1,  0, 34, 31,  3,  4,  2,  8,  7,  5,\n",
              "       17,  0, 10, 10,  4,  1, 29,  6, 10,  0,  1, 31, 17, 38, 34,  4,  3,\n",
              "       17, 29,  5,  4,  5,  8, 13,  4, 20,  4,  2, 26, 20, 27,  0, 32,  9,\n",
              "       13, 23, 14,  2, 12,  1, 26,  7, 10, 30,  0,  1, 36,  9, 26, 23,  1,\n",
              "        0,  0, 29, 28, 34,  1,  2,  5, 20,  9, 16, 18,  8,  5, 10, 15,  0,\n",
              "        2,  8, 36, 12,  0,  1, 22,  6,  5,  0,  2,  1,  9,  3, 14,  5,  4,\n",
              "       21,  5,  7,  0,  1, 19,  4,  0,  3, 19,  1,  2,  2,  1, 27,  7, 10,\n",
              "       27, 25,  7, 24,  0, 16,  7, 10, 11, 18, 10, 15,  3,  3,  7,  8, 13,\n",
              "        3,  7,  9,  0,  8,  4,  6, 30,  7,  1,  5,  6, 16, 30,  2, 39,  5,\n",
              "        0,  3,  0,  2,  6, 16, 14, 25, 15,  2, 20,  6,  6,  3,  3, 22, 10,\n",
              "       15, 13,  1, 30,  4,  0,  1, 12, 29, 15,  0,  2,  0, 34,  8, 14,  7,\n",
              "        4, 16,  2,  0,  6,  7, 21,  8,  4, 12, 22, 12, 15,  0, 10,  0, 15,\n",
              "       16, 20, 13,  5,  5, 20, 15,  1,  8, 16,  0, 35,  3, 11, 37,  8, 22,\n",
              "        2,  0,  0, 13,  0, 25, 19,  5, 28, 17,  7,  5, 38,  9,  5, 29, 21,\n",
              "       27,  1,  7,  3, 26, 16, 26,  0,  0,  5, 39, 33,  4,  4, 30,  6,  0,\n",
              "       32,  2,  6,  6,  0,  0, 14,  2,  0, 39, 12, 24, 25, 21,  1,  3, 15,\n",
              "       35, 35,  9,  3, 35,  2, 20,  6, 10, 20, 17, 24, 37, 12, 33,  3, 11])"
            ]
          },
          "metadata": {},
          "execution_count": 31
        }
      ]
    },
    {
      "cell_type": "code",
      "source": [
        "count_vect = CountVectorizer()\n",
        "x_train_counts = count_vect.fit_transform(description_list)"
      ],
      "metadata": {
        "id": "4-3ahzkxb8so"
      },
      "execution_count": 32,
      "outputs": []
    },
    {
      "cell_type": "code",
      "source": [
        "tfidf_transformer = TfidfTransformer()\n",
        "x_train_tfidf = tfidf_transformer.fit_transform(x_train_counts)"
      ],
      "metadata": {
        "id": "lzwHYGadb8lU"
      },
      "execution_count": 33,
      "outputs": []
    },
    {
      "cell_type": "code",
      "source": [
        "train_x, test_x, train_y, test_y = train_test_split(x_train_tfidf, genre_list, test_size=0.15)"
      ],
      "metadata": {
        "id": "oZGip8KVdPHI"
      },
      "execution_count": 34,
      "outputs": []
    },
    {
      "cell_type": "code",
      "source": [
        "clf = MultinomialNB().fit(train_x, train_y)\n",
        "y_score = clf.predict(train_x)"
      ],
      "metadata": {
        "id": "ViMyZHhSdPFa"
      },
      "execution_count": 35,
      "outputs": []
    },
    {
      "cell_type": "code",
      "source": [
        "n_right = 0\n",
        "for i in range(len(y_score)):\n",
        "    if y_score[i] == train_y[i]:\n",
        "        n_right += 1\n",
        "\n",
        "print(\"Accuracy: %.2f%%\" % ((n_right/float(len(train_y)) * 100)))"
      ],
      "metadata": {
        "colab": {
          "base_uri": "https://localhost:8080/"
        },
        "id": "cwTSiK4UdPBf",
        "outputId": "6c5933ad-bbc5-4248-e1c8-197acc534ebf"
      },
      "execution_count": 36,
      "outputs": [
        {
          "output_type": "stream",
          "name": "stdout",
          "text": [
            "Accuracy: 17.49%\n"
          ]
        }
      ]
    },
    {
      "cell_type": "code",
      "source": [
        "from sklearn.svm import SVC\n",
        "clf1 = SVC().fit(train_x, train_y)"
      ],
      "metadata": {
        "id": "E0NFlRgDdO_1"
      },
      "execution_count": 37,
      "outputs": []
    },
    {
      "cell_type": "code",
      "source": [
        "?SVC()"
      ],
      "metadata": {
        "id": "DyssdlxMjpd2"
      },
      "execution_count": 35,
      "outputs": []
    },
    {
      "cell_type": "code",
      "source": [
        "y_score = clf1.predict(train_x)\n",
        "n_right = 0\n",
        "for i in range(len(y_score)):\n",
        "    if y_score[i] == train_y[i]:\n",
        "        n_right += 1\n",
        "\n",
        "print(\"Accuracy: %.2f%%\" % ((n_right/float(len(train_y)) * 100)))"
      ],
      "metadata": {
        "colab": {
          "base_uri": "https://localhost:8080/"
        },
        "id": "qeZYlcn_dyMl",
        "outputId": "8e292bd2-4795-4f9e-d1c7-59227e66167c"
      },
      "execution_count": 38,
      "outputs": [
        {
          "output_type": "stream",
          "name": "stdout",
          "text": [
            "Accuracy: 73.22%\n"
          ]
        }
      ]
    },
    {
      "cell_type": "code",
      "source": [
        "type(train_y)"
      ],
      "metadata": {
        "id": "fogQpsxxSDdC",
        "outputId": "242cf110-3d5d-4553-9785-0f8f66bc31b3",
        "colab": {
          "base_uri": "https://localhost:8080/"
        }
      },
      "execution_count": 39,
      "outputs": [
        {
          "output_type": "execute_result",
          "data": {
            "text/plain": [
              "numpy.ndarray"
            ]
          },
          "metadata": {},
          "execution_count": 39
        }
      ]
    },
    {
      "cell_type": "code",
      "source": [
        "df_temp = pd.DataFrame()\n",
        "df_temp['Predict'] = y_score.tolist()\n",
        "df_temp['Actual'] = train_y.tolist()\n",
        "df_temp"
      ],
      "metadata": {
        "id": "h9aak9ClRhZA",
        "outputId": "cb7816d6-2680-416a-ebd5-dc64f63b8c29",
        "colab": {
          "base_uri": "https://localhost:8080/",
          "height": 423
        }
      },
      "execution_count": 40,
      "outputs": [
        {
          "output_type": "execute_result",
          "data": {
            "text/html": [
              "<div>\n",
              "<style scoped>\n",
              "    .dataframe tbody tr th:only-of-type {\n",
              "        vertical-align: middle;\n",
              "    }\n",
              "\n",
              "    .dataframe tbody tr th {\n",
              "        vertical-align: top;\n",
              "    }\n",
              "\n",
              "    .dataframe thead th {\n",
              "        text-align: right;\n",
              "    }\n",
              "</style>\n",
              "<table border=\"1\" class=\"dataframe\">\n",
              "  <thead>\n",
              "    <tr style=\"text-align: right;\">\n",
              "      <th></th>\n",
              "      <th>Predict</th>\n",
              "      <th>Actual</th>\n",
              "    </tr>\n",
              "  </thead>\n",
              "  <tbody>\n",
              "    <tr>\n",
              "      <th>0</th>\n",
              "      <td>4</td>\n",
              "      <td>4</td>\n",
              "    </tr>\n",
              "    <tr>\n",
              "      <th>1</th>\n",
              "      <td>0</td>\n",
              "      <td>0</td>\n",
              "    </tr>\n",
              "    <tr>\n",
              "      <th>2</th>\n",
              "      <td>0</td>\n",
              "      <td>20</td>\n",
              "    </tr>\n",
              "    <tr>\n",
              "      <th>3</th>\n",
              "      <td>1</td>\n",
              "      <td>1</td>\n",
              "    </tr>\n",
              "    <tr>\n",
              "      <th>4</th>\n",
              "      <td>15</td>\n",
              "      <td>15</td>\n",
              "    </tr>\n",
              "    <tr>\n",
              "      <th>...</th>\n",
              "      <td>...</td>\n",
              "      <td>...</td>\n",
              "    </tr>\n",
              "    <tr>\n",
              "      <th>544</th>\n",
              "      <td>1</td>\n",
              "      <td>1</td>\n",
              "    </tr>\n",
              "    <tr>\n",
              "      <th>545</th>\n",
              "      <td>0</td>\n",
              "      <td>28</td>\n",
              "    </tr>\n",
              "    <tr>\n",
              "      <th>546</th>\n",
              "      <td>7</td>\n",
              "      <td>7</td>\n",
              "    </tr>\n",
              "    <tr>\n",
              "      <th>547</th>\n",
              "      <td>0</td>\n",
              "      <td>29</td>\n",
              "    </tr>\n",
              "    <tr>\n",
              "      <th>548</th>\n",
              "      <td>6</td>\n",
              "      <td>6</td>\n",
              "    </tr>\n",
              "  </tbody>\n",
              "</table>\n",
              "<p>549 rows × 2 columns</p>\n",
              "</div>"
            ],
            "text/plain": [
              "     Predict  Actual\n",
              "0          4       4\n",
              "1          0       0\n",
              "2          0      20\n",
              "3          1       1\n",
              "4         15      15\n",
              "..       ...     ...\n",
              "544        1       1\n",
              "545        0      28\n",
              "546        7       7\n",
              "547        0      29\n",
              "548        6       6\n",
              "\n",
              "[549 rows x 2 columns]"
            ]
          },
          "metadata": {},
          "execution_count": 40
        }
      ]
    },
    {
      "cell_type": "code",
      "source": [
        "nlp_df['Genre'].describe()"
      ],
      "metadata": {
        "colab": {
          "base_uri": "https://localhost:8080/"
        },
        "id": "voFIMGS6b8cB",
        "outputId": "2e57b0a0-7b48-4fc5-cbb6-d0b688161982"
      },
      "execution_count": 28,
      "outputs": [
        {
          "output_type": "execute_result",
          "data": {
            "text/plain": [
              "count       697\n",
              "unique       50\n",
              "top       Drama\n",
              "freq         88\n",
              "Name: Genre, dtype: object"
            ]
          },
          "metadata": {},
          "execution_count": 28
        }
      ]
    },
    {
      "cell_type": "code",
      "source": [
        "l1 = dict(nlp_df['Genre'].value_counts())\n",
        "l1"
      ],
      "metadata": {
        "id": "R5jAaPvYe_UY",
        "outputId": "ce68469c-10f2-4a21-bb31-221f2ce78883",
        "colab": {
          "base_uri": "https://localhost:8080/"
        }
      },
      "execution_count": 29,
      "outputs": [
        {
          "output_type": "execute_result",
          "data": {
            "text/plain": [
              "{'Action Adventure Comedy': 10,\n",
              " 'Action Adventure Drama': 13,\n",
              " 'Action Adventure Fantasy': 8,\n",
              " 'Action Adventure Sci-Fi': 21,\n",
              " 'Action Adventure Thriller': 5,\n",
              " 'Action Biography Drama': 7,\n",
              " 'Action Crime Drama': 29,\n",
              " 'Action Crime Thriller': 10,\n",
              " 'Adventure Biography Drama': 6,\n",
              " 'Adventure Comedy Drama': 8,\n",
              " 'Adventure Drama Fantasy': 5,\n",
              " 'Adventure Family Fantasy': 6,\n",
              " 'Animation Action Adventure': 12,\n",
              " 'Animation Adventure Comedy': 29,\n",
              " 'Animation Adventure Drama': 8,\n",
              " 'Animation Adventure Family': 6,\n",
              " 'Animation Drama Fantasy': 5,\n",
              " 'Biography Comedy Drama': 7,\n",
              " 'Biography Crime Drama': 14,\n",
              " 'Biography Drama': 12,\n",
              " 'Biography Drama History': 28,\n",
              " 'Biography Drama Music': 7,\n",
              " 'Biography Drama Sport': 8,\n",
              " 'Comedy': 13,\n",
              " 'Comedy Crime': 6,\n",
              " 'Comedy Crime Drama': 15,\n",
              " 'Comedy Drama': 36,\n",
              " 'Comedy Drama Family': 6,\n",
              " 'Comedy Drama Fantasy': 5,\n",
              " 'Comedy Drama Romance': 31,\n",
              " 'Comedy Romance': 7,\n",
              " 'Crime Drama': 26,\n",
              " 'Crime Drama Film-Noir': 5,\n",
              " 'Crime Drama Mystery': 30,\n",
              " 'Crime Drama Romance': 5,\n",
              " 'Crime Drama Thriller': 29,\n",
              " 'Drama': 88,\n",
              " 'Drama History War': 6,\n",
              " 'Drama Music': 5,\n",
              " 'Drama Music Romance': 8,\n",
              " 'Drama Mystery Romance': 7,\n",
              " 'Drama Mystery Sci-Fi': 5,\n",
              " 'Drama Mystery Thriller': 9,\n",
              " 'Drama Romance': 36,\n",
              " 'Drama Sci-Fi': 6,\n",
              " 'Drama Sport': 6,\n",
              " 'Drama Thriller': 13,\n",
              " 'Drama War': 16,\n",
              " 'Drama Western': 5,\n",
              " 'Mystery Thriller': 9}"
            ]
          },
          "metadata": {},
          "execution_count": 29
        }
      ]
    },
    {
      "cell_type": "code",
      "source": [
        ""
      ],
      "metadata": {
        "id": "cH29f_DZN8gV"
      },
      "execution_count": null,
      "outputs": []
    }
  ]
}