{
  "nbformat": 4,
  "nbformat_minor": 0,
  "metadata": {
    "colab": {
      "name": "NLP_Modelling.ipynb",
      "provenance": [],
      "authorship_tag": "ABX9TyMZnbjjxjYaq6RqAHW9r7RM",
      "include_colab_link": true
    },
    "kernelspec": {
      "name": "python3",
      "display_name": "Python 3"
    },
    "language_info": {
      "name": "python"
    }
  },
  "cells": [
    {
      "cell_type": "markdown",
      "metadata": {
        "id": "view-in-github",
        "colab_type": "text"
      },
      "source": [
        "<a href=\"https://colab.research.google.com/github/Aytijha/Caramel_Popcorn_Movie_Time/blob/main/NLP_Modelling.ipynb\" target=\"_parent\"><img src=\"https://colab.research.google.com/assets/colab-badge.svg\" alt=\"Open In Colab\"/></a>"
      ]
    },
    {
      "cell_type": "code",
      "metadata": {
        "colab": {
          "base_uri": "https://localhost:8080/"
        },
        "id": "tgd2lqiyyxfC",
        "outputId": "d7721881-eaa5-449a-b742-4b0dcf24cc3d"
      },
      "source": [
        "import pandas as pd\n",
        "import numpy as np\n",
        "\n",
        "import re, string\n",
        "import nltk\n",
        "from nltk.tokenize import word_tokenize\n",
        "from nltk.corpus import stopwords\n",
        "from nltk.tokenize import word_tokenize\n",
        "from nltk.stem import SnowballStemmer\n",
        "from nltk.corpus import wordnet\n",
        "from nltk.stem import WordNetLemmatizer\n",
        "nltk.download('punkt')\n",
        "nltk.download('averaged_perceptron_tagger')\n",
        "nltk.download('wordnet')\n",
        "\n",
        "from sklearn.model_selection import train_test_split\n",
        "from sklearn.linear_model import LogisticRegression\n",
        "from sklearn.naive_bayes import MultinomialNB\n",
        "from sklearn.metrics import classification_report, f1_score, accuracy_score, confusion_matrix\n",
        "from sklearn.metrics import roc_curve, auc, roc_auc_score\n",
        "\n",
        "from sklearn.feature_extraction.text import TfidfVectorizer\n",
        "from sklearn.feature_extraction.text import TfidfTransformer\n",
        "from sklearn.feature_extraction.text import CountVectorizer\n",
        "\n",
        "import gensim\n",
        "from gensim.models import Word2Vec"
      ],
      "execution_count": 27,
      "outputs": [
        {
          "output_type": "stream",
          "name": "stdout",
          "text": [
            "[nltk_data] Downloading package punkt to /root/nltk_data...\n",
            "[nltk_data]   Package punkt is already up-to-date!\n",
            "[nltk_data] Downloading package averaged_perceptron_tagger to\n",
            "[nltk_data]     /root/nltk_data...\n",
            "[nltk_data]   Package averaged_perceptron_tagger is already up-to-\n",
            "[nltk_data]       date!\n",
            "[nltk_data] Downloading package wordnet to /root/nltk_data...\n",
            "[nltk_data]   Package wordnet is already up-to-date!\n"
          ]
        }
      ]
    },
    {
      "cell_type": "code",
      "metadata": {
        "colab": {
          "base_uri": "https://localhost:8080/",
          "height": 423
        },
        "id": "vXlKoFkBk7wY",
        "outputId": "a9314024-2576-4b5a-da3f-a41140712942"
      },
      "source": [
        "import pandas as pd\n",
        "nlp_df = pd.read_csv('NLP DF.csv')\n",
        "nlp_df"
      ],
      "execution_count": 2,
      "outputs": [
        {
          "output_type": "execute_result",
          "data": {
            "text/html": [
              "<div>\n",
              "<style scoped>\n",
              "    .dataframe tbody tr th:only-of-type {\n",
              "        vertical-align: middle;\n",
              "    }\n",
              "\n",
              "    .dataframe tbody tr th {\n",
              "        vertical-align: top;\n",
              "    }\n",
              "\n",
              "    .dataframe thead th {\n",
              "        text-align: right;\n",
              "    }\n",
              "</style>\n",
              "<table border=\"1\" class=\"dataframe\">\n",
              "  <thead>\n",
              "    <tr style=\"text-align: right;\">\n",
              "      <th></th>\n",
              "      <th>Unnamed: 0</th>\n",
              "      <th>Name of movie</th>\n",
              "      <th>Description</th>\n",
              "      <th>Genre</th>\n",
              "    </tr>\n",
              "  </thead>\n",
              "  <tbody>\n",
              "    <tr>\n",
              "      <th>0</th>\n",
              "      <td>0</td>\n",
              "      <td>The Shawshank Redemption</td>\n",
              "      <td>Two imprisoned men bond over a number of years...</td>\n",
              "      <td>Drama</td>\n",
              "    </tr>\n",
              "    <tr>\n",
              "      <th>1</th>\n",
              "      <td>1</td>\n",
              "      <td>The Godfather</td>\n",
              "      <td>An organized crime dynasty's aging patriarch t...</td>\n",
              "      <td>Crime Drama</td>\n",
              "    </tr>\n",
              "    <tr>\n",
              "      <th>2</th>\n",
              "      <td>2</td>\n",
              "      <td>Soorarai Pottru</td>\n",
              "      <td>Nedumaaran Rajangam \"Maara\" sets out to make t...</td>\n",
              "      <td>Drama</td>\n",
              "    </tr>\n",
              "    <tr>\n",
              "      <th>3</th>\n",
              "      <td>3</td>\n",
              "      <td>The Dark Knight</td>\n",
              "      <td>When the menace known as the Joker wreaks havo...</td>\n",
              "      <td>Action Crime Drama</td>\n",
              "    </tr>\n",
              "    <tr>\n",
              "      <th>4</th>\n",
              "      <td>4</td>\n",
              "      <td>The Godfather: Part II</td>\n",
              "      <td>The early life and career of Vito Corleone in ...</td>\n",
              "      <td>Crime Drama</td>\n",
              "    </tr>\n",
              "    <tr>\n",
              "      <th>...</th>\n",
              "      <td>...</td>\n",
              "      <td>...</td>\n",
              "      <td>...</td>\n",
              "      <td>...</td>\n",
              "    </tr>\n",
              "    <tr>\n",
              "      <th>995</th>\n",
              "      <td>995</td>\n",
              "      <td>Giant</td>\n",
              "      <td>Sprawling epic covering the life of a Texas ca...</td>\n",
              "      <td>Drama Western</td>\n",
              "    </tr>\n",
              "    <tr>\n",
              "      <th>996</th>\n",
              "      <td>996</td>\n",
              "      <td>From Here to Eternity</td>\n",
              "      <td>In Hawaii in 1941, a private is cruelly punish...</td>\n",
              "      <td>Drama Romance War</td>\n",
              "    </tr>\n",
              "    <tr>\n",
              "      <th>997</th>\n",
              "      <td>997</td>\n",
              "      <td>Gilda</td>\n",
              "      <td>A small-time gambler hired to work in a Buenos...</td>\n",
              "      <td>Drama Film-Noir Romance</td>\n",
              "    </tr>\n",
              "    <tr>\n",
              "      <th>998</th>\n",
              "      <td>998</td>\n",
              "      <td>Lifeboat</td>\n",
              "      <td>Several survivors of a torpedoed merchant ship...</td>\n",
              "      <td>Drama War</td>\n",
              "    </tr>\n",
              "    <tr>\n",
              "      <th>999</th>\n",
              "      <td>999</td>\n",
              "      <td>The 39 Steps</td>\n",
              "      <td>A man in London tries to help a counter-espion...</td>\n",
              "      <td>Crime Mystery Thriller</td>\n",
              "    </tr>\n",
              "  </tbody>\n",
              "</table>\n",
              "<p>1000 rows × 4 columns</p>\n",
              "</div>"
            ],
            "text/plain": [
              "     Unnamed: 0  ...                    Genre\n",
              "0             0  ...                    Drama\n",
              "1             1  ...              Crime Drama\n",
              "2             2  ...                    Drama\n",
              "3             3  ...       Action Crime Drama\n",
              "4             4  ...              Crime Drama\n",
              "..          ...  ...                      ...\n",
              "995         995  ...            Drama Western\n",
              "996         996  ...        Drama Romance War\n",
              "997         997  ...  Drama Film-Noir Romance\n",
              "998         998  ...                Drama War\n",
              "999         999  ...   Crime Mystery Thriller\n",
              "\n",
              "[1000 rows x 4 columns]"
            ]
          },
          "metadata": {},
          "execution_count": 2
        }
      ]
    },
    {
      "cell_type": "code",
      "metadata": {
        "id": "IyscKIXZlVoi"
      },
      "source": [
        "nlp_df.drop('Unnamed: 0', inplace=True, axis=1)"
      ],
      "execution_count": 3,
      "outputs": []
    },
    {
      "cell_type": "code",
      "metadata": {
        "colab": {
          "base_uri": "https://localhost:8080/",
          "height": 423
        },
        "id": "gkjUz6K-ld9H",
        "outputId": "ecd67bcd-4b88-4e46-dc7a-9e0e417df562"
      },
      "source": [
        "nlp_df"
      ],
      "execution_count": 4,
      "outputs": [
        {
          "output_type": "execute_result",
          "data": {
            "text/html": [
              "<div>\n",
              "<style scoped>\n",
              "    .dataframe tbody tr th:only-of-type {\n",
              "        vertical-align: middle;\n",
              "    }\n",
              "\n",
              "    .dataframe tbody tr th {\n",
              "        vertical-align: top;\n",
              "    }\n",
              "\n",
              "    .dataframe thead th {\n",
              "        text-align: right;\n",
              "    }\n",
              "</style>\n",
              "<table border=\"1\" class=\"dataframe\">\n",
              "  <thead>\n",
              "    <tr style=\"text-align: right;\">\n",
              "      <th></th>\n",
              "      <th>Name of movie</th>\n",
              "      <th>Description</th>\n",
              "      <th>Genre</th>\n",
              "    </tr>\n",
              "  </thead>\n",
              "  <tbody>\n",
              "    <tr>\n",
              "      <th>0</th>\n",
              "      <td>The Shawshank Redemption</td>\n",
              "      <td>Two imprisoned men bond over a number of years...</td>\n",
              "      <td>Drama</td>\n",
              "    </tr>\n",
              "    <tr>\n",
              "      <th>1</th>\n",
              "      <td>The Godfather</td>\n",
              "      <td>An organized crime dynasty's aging patriarch t...</td>\n",
              "      <td>Crime Drama</td>\n",
              "    </tr>\n",
              "    <tr>\n",
              "      <th>2</th>\n",
              "      <td>Soorarai Pottru</td>\n",
              "      <td>Nedumaaran Rajangam \"Maara\" sets out to make t...</td>\n",
              "      <td>Drama</td>\n",
              "    </tr>\n",
              "    <tr>\n",
              "      <th>3</th>\n",
              "      <td>The Dark Knight</td>\n",
              "      <td>When the menace known as the Joker wreaks havo...</td>\n",
              "      <td>Action Crime Drama</td>\n",
              "    </tr>\n",
              "    <tr>\n",
              "      <th>4</th>\n",
              "      <td>The Godfather: Part II</td>\n",
              "      <td>The early life and career of Vito Corleone in ...</td>\n",
              "      <td>Crime Drama</td>\n",
              "    </tr>\n",
              "    <tr>\n",
              "      <th>...</th>\n",
              "      <td>...</td>\n",
              "      <td>...</td>\n",
              "      <td>...</td>\n",
              "    </tr>\n",
              "    <tr>\n",
              "      <th>995</th>\n",
              "      <td>Giant</td>\n",
              "      <td>Sprawling epic covering the life of a Texas ca...</td>\n",
              "      <td>Drama Western</td>\n",
              "    </tr>\n",
              "    <tr>\n",
              "      <th>996</th>\n",
              "      <td>From Here to Eternity</td>\n",
              "      <td>In Hawaii in 1941, a private is cruelly punish...</td>\n",
              "      <td>Drama Romance War</td>\n",
              "    </tr>\n",
              "    <tr>\n",
              "      <th>997</th>\n",
              "      <td>Gilda</td>\n",
              "      <td>A small-time gambler hired to work in a Buenos...</td>\n",
              "      <td>Drama Film-Noir Romance</td>\n",
              "    </tr>\n",
              "    <tr>\n",
              "      <th>998</th>\n",
              "      <td>Lifeboat</td>\n",
              "      <td>Several survivors of a torpedoed merchant ship...</td>\n",
              "      <td>Drama War</td>\n",
              "    </tr>\n",
              "    <tr>\n",
              "      <th>999</th>\n",
              "      <td>The 39 Steps</td>\n",
              "      <td>A man in London tries to help a counter-espion...</td>\n",
              "      <td>Crime Mystery Thriller</td>\n",
              "    </tr>\n",
              "  </tbody>\n",
              "</table>\n",
              "<p>1000 rows × 3 columns</p>\n",
              "</div>"
            ],
            "text/plain": [
              "                Name of movie  ...                    Genre\n",
              "0    The Shawshank Redemption  ...                    Drama\n",
              "1               The Godfather  ...              Crime Drama\n",
              "2             Soorarai Pottru  ...                    Drama\n",
              "3             The Dark Knight  ...       Action Crime Drama\n",
              "4      The Godfather: Part II  ...              Crime Drama\n",
              "..                        ...  ...                      ...\n",
              "995                     Giant  ...            Drama Western\n",
              "996     From Here to Eternity  ...        Drama Romance War\n",
              "997                     Gilda  ...  Drama Film-Noir Romance\n",
              "998                  Lifeboat  ...                Drama War\n",
              "999              The 39 Steps  ...   Crime Mystery Thriller\n",
              "\n",
              "[1000 rows x 3 columns]"
            ]
          },
          "metadata": {},
          "execution_count": 4
        }
      ]
    },
    {
      "cell_type": "code",
      "metadata": {
        "id": "-eqYcPcSlfis"
      },
      "source": [
        "d = dict(nlp_df['Genre'].value_counts())\n",
        "#d"
      ],
      "execution_count": 5,
      "outputs": []
    },
    {
      "cell_type": "code",
      "metadata": {
        "colab": {
          "base_uri": "https://localhost:8080/",
          "height": 423
        },
        "id": "lRQos7gTlopr",
        "outputId": "15e2271b-e882-436b-a082-3e8a144e1b75"
      },
      "source": [
        "nlp_df['Text'] = nlp_df['Name of movie'] + ' ' + nlp_df['Description']\n",
        "nlp_df"
      ],
      "execution_count": 6,
      "outputs": [
        {
          "output_type": "execute_result",
          "data": {
            "text/html": [
              "<div>\n",
              "<style scoped>\n",
              "    .dataframe tbody tr th:only-of-type {\n",
              "        vertical-align: middle;\n",
              "    }\n",
              "\n",
              "    .dataframe tbody tr th {\n",
              "        vertical-align: top;\n",
              "    }\n",
              "\n",
              "    .dataframe thead th {\n",
              "        text-align: right;\n",
              "    }\n",
              "</style>\n",
              "<table border=\"1\" class=\"dataframe\">\n",
              "  <thead>\n",
              "    <tr style=\"text-align: right;\">\n",
              "      <th></th>\n",
              "      <th>Name of movie</th>\n",
              "      <th>Description</th>\n",
              "      <th>Genre</th>\n",
              "      <th>Text</th>\n",
              "    </tr>\n",
              "  </thead>\n",
              "  <tbody>\n",
              "    <tr>\n",
              "      <th>0</th>\n",
              "      <td>The Shawshank Redemption</td>\n",
              "      <td>Two imprisoned men bond over a number of years...</td>\n",
              "      <td>Drama</td>\n",
              "      <td>The Shawshank Redemption Two imprisoned men bo...</td>\n",
              "    </tr>\n",
              "    <tr>\n",
              "      <th>1</th>\n",
              "      <td>The Godfather</td>\n",
              "      <td>An organized crime dynasty's aging patriarch t...</td>\n",
              "      <td>Crime Drama</td>\n",
              "      <td>The Godfather An organized crime dynasty's agi...</td>\n",
              "    </tr>\n",
              "    <tr>\n",
              "      <th>2</th>\n",
              "      <td>Soorarai Pottru</td>\n",
              "      <td>Nedumaaran Rajangam \"Maara\" sets out to make t...</td>\n",
              "      <td>Drama</td>\n",
              "      <td>Soorarai Pottru Nedumaaran Rajangam \"Maara\" se...</td>\n",
              "    </tr>\n",
              "    <tr>\n",
              "      <th>3</th>\n",
              "      <td>The Dark Knight</td>\n",
              "      <td>When the menace known as the Joker wreaks havo...</td>\n",
              "      <td>Action Crime Drama</td>\n",
              "      <td>The Dark Knight When the menace known as the J...</td>\n",
              "    </tr>\n",
              "    <tr>\n",
              "      <th>4</th>\n",
              "      <td>The Godfather: Part II</td>\n",
              "      <td>The early life and career of Vito Corleone in ...</td>\n",
              "      <td>Crime Drama</td>\n",
              "      <td>The Godfather: Part II The early life and care...</td>\n",
              "    </tr>\n",
              "    <tr>\n",
              "      <th>...</th>\n",
              "      <td>...</td>\n",
              "      <td>...</td>\n",
              "      <td>...</td>\n",
              "      <td>...</td>\n",
              "    </tr>\n",
              "    <tr>\n",
              "      <th>995</th>\n",
              "      <td>Giant</td>\n",
              "      <td>Sprawling epic covering the life of a Texas ca...</td>\n",
              "      <td>Drama Western</td>\n",
              "      <td>Giant Sprawling epic covering the life of a Te...</td>\n",
              "    </tr>\n",
              "    <tr>\n",
              "      <th>996</th>\n",
              "      <td>From Here to Eternity</td>\n",
              "      <td>In Hawaii in 1941, a private is cruelly punish...</td>\n",
              "      <td>Drama Romance War</td>\n",
              "      <td>From Here to Eternity In Hawaii in 1941, a pri...</td>\n",
              "    </tr>\n",
              "    <tr>\n",
              "      <th>997</th>\n",
              "      <td>Gilda</td>\n",
              "      <td>A small-time gambler hired to work in a Buenos...</td>\n",
              "      <td>Drama Film-Noir Romance</td>\n",
              "      <td>Gilda A small-time gambler hired to work in a ...</td>\n",
              "    </tr>\n",
              "    <tr>\n",
              "      <th>998</th>\n",
              "      <td>Lifeboat</td>\n",
              "      <td>Several survivors of a torpedoed merchant ship...</td>\n",
              "      <td>Drama War</td>\n",
              "      <td>Lifeboat Several survivors of a torpedoed merc...</td>\n",
              "    </tr>\n",
              "    <tr>\n",
              "      <th>999</th>\n",
              "      <td>The 39 Steps</td>\n",
              "      <td>A man in London tries to help a counter-espion...</td>\n",
              "      <td>Crime Mystery Thriller</td>\n",
              "      <td>The 39 Steps A man in London tries to help a c...</td>\n",
              "    </tr>\n",
              "  </tbody>\n",
              "</table>\n",
              "<p>1000 rows × 4 columns</p>\n",
              "</div>"
            ],
            "text/plain": [
              "                Name of movie  ...                                               Text\n",
              "0    The Shawshank Redemption  ...  The Shawshank Redemption Two imprisoned men bo...\n",
              "1               The Godfather  ...  The Godfather An organized crime dynasty's agi...\n",
              "2             Soorarai Pottru  ...  Soorarai Pottru Nedumaaran Rajangam \"Maara\" se...\n",
              "3             The Dark Knight  ...  The Dark Knight When the menace known as the J...\n",
              "4      The Godfather: Part II  ...  The Godfather: Part II The early life and care...\n",
              "..                        ...  ...                                                ...\n",
              "995                     Giant  ...  Giant Sprawling epic covering the life of a Te...\n",
              "996     From Here to Eternity  ...  From Here to Eternity In Hawaii in 1941, a pri...\n",
              "997                     Gilda  ...  Gilda A small-time gambler hired to work in a ...\n",
              "998                  Lifeboat  ...  Lifeboat Several survivors of a torpedoed merc...\n",
              "999              The 39 Steps  ...  The 39 Steps A man in London tries to help a c...\n",
              "\n",
              "[1000 rows x 4 columns]"
            ]
          },
          "metadata": {},
          "execution_count": 6
        }
      ]
    },
    {
      "cell_type": "code",
      "metadata": {
        "id": "StYW7Zstnl65"
      },
      "source": [
        "# converting text to lowercase, stripping and removing punctuations\n",
        "def preprocess(text):\n",
        "    text = text.lower() \n",
        "    text=text.strip()  \n",
        "    text=re.compile('<.*?>').sub('', text) \n",
        "    text = re.compile('[%s]' % re.escape(string.punctuation)).sub(' ', text)  \n",
        "    text = re.sub('\\s+', ' ', text)  \n",
        "    text = re.sub(r'\\[[0-9]*\\]',' ',text) \n",
        "    text=re.sub(r'[^\\w\\s]', '', str(text).lower().strip())\n",
        "    text = re.sub(r'\\d',' ',text) \n",
        "    text = re.sub(r'\\s+',' ',text) \n",
        "    return text"
      ],
      "execution_count": 7,
      "outputs": []
    },
    {
      "cell_type": "code",
      "metadata": {
        "id": "ix4VNvYCv3U1"
      },
      "source": [
        "# removing stopwords\n",
        "def stopword(string):\n",
        "    a= [i for i in string.split() if i not in stopwords.words('english')]\n",
        "    return ' '.join(a)"
      ],
      "execution_count": 8,
      "outputs": []
    },
    {
      "cell_type": "code",
      "metadata": {
        "id": "OtSrzspyv9LI"
      },
      "source": [
        "# lemmatization\n",
        "wl = WordNetLemmatizer()\n",
        " \n",
        "# helper function to map NTLK position tags\n",
        "def get_wordnet_pos(tag):\n",
        "    if tag.startswith('J'):\n",
        "        return wordnet.ADJ\n",
        "    elif tag.startswith('V'):\n",
        "        return wordnet.VERB\n",
        "    elif tag.startswith('N'):\n",
        "        return wordnet.NOUN\n",
        "    elif tag.startswith('R'):\n",
        "        return wordnet.ADV\n",
        "    else:\n",
        "        return wordnet.NOUN\n",
        "\n",
        "# to tokenize the sentence\n",
        "def lemmatizer(string):\n",
        "    word_pos_tags = nltk.pos_tag(word_tokenize(string)) # Get position tags\n",
        "    a=[wl.lemmatize(tag[0], get_wordnet_pos(tag[1])) for idx, tag in enumerate(word_pos_tags)] # Map the position tag and lemmatize the word/token\n",
        "    return \" \".join(a)"
      ],
      "execution_count": 9,
      "outputs": []
    },
    {
      "cell_type": "code",
      "metadata": {
        "colab": {
          "base_uri": "https://localhost:8080/"
        },
        "id": "jwJ2TApI3J-i",
        "outputId": "a8a5bbc4-b4db-4125-b7d1-80f5cfd6867b"
      },
      "source": [
        "nltk.download('stopwords')"
      ],
      "execution_count": 10,
      "outputs": [
        {
          "output_type": "stream",
          "name": "stdout",
          "text": [
            "[nltk_data] Downloading package stopwords to /root/nltk_data...\n",
            "[nltk_data]   Unzipping corpora/stopwords.zip.\n"
          ]
        },
        {
          "output_type": "execute_result",
          "data": {
            "text/plain": [
              "True"
            ]
          },
          "metadata": {},
          "execution_count": 10
        }
      ]
    },
    {
      "cell_type": "code",
      "metadata": {
        "colab": {
          "base_uri": "https://localhost:8080/",
          "height": 493
        },
        "id": "b1n_5YSuym0i",
        "outputId": "3bf13e37-a2b1-4e00-97d8-e4087b258b4c"
      },
      "source": [
        "def finalpreprocess(string):\n",
        "    return lemmatizer(stopword(preprocess(string)))\n",
        "nlp_df['clean_text'] = nlp_df['Text'].apply(lambda x: finalpreprocess(x))\n",
        "nlp_df"
      ],
      "execution_count": 11,
      "outputs": [
        {
          "output_type": "execute_result",
          "data": {
            "text/html": [
              "<div>\n",
              "<style scoped>\n",
              "    .dataframe tbody tr th:only-of-type {\n",
              "        vertical-align: middle;\n",
              "    }\n",
              "\n",
              "    .dataframe tbody tr th {\n",
              "        vertical-align: top;\n",
              "    }\n",
              "\n",
              "    .dataframe thead th {\n",
              "        text-align: right;\n",
              "    }\n",
              "</style>\n",
              "<table border=\"1\" class=\"dataframe\">\n",
              "  <thead>\n",
              "    <tr style=\"text-align: right;\">\n",
              "      <th></th>\n",
              "      <th>Name of movie</th>\n",
              "      <th>Description</th>\n",
              "      <th>Genre</th>\n",
              "      <th>Text</th>\n",
              "      <th>clean_text</th>\n",
              "    </tr>\n",
              "  </thead>\n",
              "  <tbody>\n",
              "    <tr>\n",
              "      <th>0</th>\n",
              "      <td>The Shawshank Redemption</td>\n",
              "      <td>Two imprisoned men bond over a number of years...</td>\n",
              "      <td>Drama</td>\n",
              "      <td>The Shawshank Redemption Two imprisoned men bo...</td>\n",
              "      <td>shawshank redemption two imprisoned men bond n...</td>\n",
              "    </tr>\n",
              "    <tr>\n",
              "      <th>1</th>\n",
              "      <td>The Godfather</td>\n",
              "      <td>An organized crime dynasty's aging patriarch t...</td>\n",
              "      <td>Crime Drama</td>\n",
              "      <td>The Godfather An organized crime dynasty's agi...</td>\n",
              "      <td>godfather organize crime dynasty age patriarch...</td>\n",
              "    </tr>\n",
              "    <tr>\n",
              "      <th>2</th>\n",
              "      <td>Soorarai Pottru</td>\n",
              "      <td>Nedumaaran Rajangam \"Maara\" sets out to make t...</td>\n",
              "      <td>Drama</td>\n",
              "      <td>Soorarai Pottru Nedumaaran Rajangam \"Maara\" se...</td>\n",
              "      <td>soorarai pottru nedumaaran rajangam maara set ...</td>\n",
              "    </tr>\n",
              "    <tr>\n",
              "      <th>3</th>\n",
              "      <td>The Dark Knight</td>\n",
              "      <td>When the menace known as the Joker wreaks havo...</td>\n",
              "      <td>Action Crime Drama</td>\n",
              "      <td>The Dark Knight When the menace known as the J...</td>\n",
              "      <td>dark knight menace know joker wreaks havoc cha...</td>\n",
              "    </tr>\n",
              "    <tr>\n",
              "      <th>4</th>\n",
              "      <td>The Godfather: Part II</td>\n",
              "      <td>The early life and career of Vito Corleone in ...</td>\n",
              "      <td>Crime Drama</td>\n",
              "      <td>The Godfather: Part II The early life and care...</td>\n",
              "      <td>godfather part ii early life career vito corle...</td>\n",
              "    </tr>\n",
              "    <tr>\n",
              "      <th>...</th>\n",
              "      <td>...</td>\n",
              "      <td>...</td>\n",
              "      <td>...</td>\n",
              "      <td>...</td>\n",
              "      <td>...</td>\n",
              "    </tr>\n",
              "    <tr>\n",
              "      <th>995</th>\n",
              "      <td>Giant</td>\n",
              "      <td>Sprawling epic covering the life of a Texas ca...</td>\n",
              "      <td>Drama Western</td>\n",
              "      <td>Giant Sprawling epic covering the life of a Te...</td>\n",
              "      <td>giant sprawl epic cover life texas cattle ranc...</td>\n",
              "    </tr>\n",
              "    <tr>\n",
              "      <th>996</th>\n",
              "      <td>From Here to Eternity</td>\n",
              "      <td>In Hawaii in 1941, a private is cruelly punish...</td>\n",
              "      <td>Drama Romance War</td>\n",
              "      <td>From Here to Eternity In Hawaii in 1941, a pri...</td>\n",
              "      <td>eternity hawaii private cruelly punish box uni...</td>\n",
              "    </tr>\n",
              "    <tr>\n",
              "      <th>997</th>\n",
              "      <td>Gilda</td>\n",
              "      <td>A small-time gambler hired to work in a Buenos...</td>\n",
              "      <td>Drama Film-Noir Romance</td>\n",
              "      <td>Gilda A small-time gambler hired to work in a ...</td>\n",
              "      <td>gilda small time gambler hire work buenos air ...</td>\n",
              "    </tr>\n",
              "    <tr>\n",
              "      <th>998</th>\n",
              "      <td>Lifeboat</td>\n",
              "      <td>Several survivors of a torpedoed merchant ship...</td>\n",
              "      <td>Drama War</td>\n",
              "      <td>Lifeboat Several survivors of a torpedoed merc...</td>\n",
              "      <td>lifeboat several survivor torpedo merchant shi...</td>\n",
              "    </tr>\n",
              "    <tr>\n",
              "      <th>999</th>\n",
              "      <td>The 39 Steps</td>\n",
              "      <td>A man in London tries to help a counter-espion...</td>\n",
              "      <td>Crime Mystery Thriller</td>\n",
              "      <td>The 39 Steps A man in London tries to help a c...</td>\n",
              "      <td>step man london try help counter espionage age...</td>\n",
              "    </tr>\n",
              "  </tbody>\n",
              "</table>\n",
              "<p>1000 rows × 5 columns</p>\n",
              "</div>"
            ],
            "text/plain": [
              "                Name of movie  ...                                         clean_text\n",
              "0    The Shawshank Redemption  ...  shawshank redemption two imprisoned men bond n...\n",
              "1               The Godfather  ...  godfather organize crime dynasty age patriarch...\n",
              "2             Soorarai Pottru  ...  soorarai pottru nedumaaran rajangam maara set ...\n",
              "3             The Dark Knight  ...  dark knight menace know joker wreaks havoc cha...\n",
              "4      The Godfather: Part II  ...  godfather part ii early life career vito corle...\n",
              "..                        ...  ...                                                ...\n",
              "995                     Giant  ...  giant sprawl epic cover life texas cattle ranc...\n",
              "996     From Here to Eternity  ...  eternity hawaii private cruelly punish box uni...\n",
              "997                     Gilda  ...  gilda small time gambler hire work buenos air ...\n",
              "998                  Lifeboat  ...  lifeboat several survivor torpedo merchant shi...\n",
              "999              The 39 Steps  ...  step man london try help counter espionage age...\n",
              "\n",
              "[1000 rows x 5 columns]"
            ]
          },
          "metadata": {},
          "execution_count": 11
        }
      ]
    },
    {
      "cell_type": "code",
      "metadata": {
        "colab": {
          "base_uri": "https://localhost:8080/"
        },
        "id": "Qnzt-avB2-MM",
        "outputId": "015ee3b6-889f-4252-a3bc-a57a5b08d11a"
      },
      "source": [
        "from sklearn.model_selection import train_test_split\n",
        "X_train, X_test, y_train, y_test = train_test_split(nlp_df['clean_text'], nlp_df['Genre'], test_size=0.15)\n",
        "print(X_train.shape, X_test.shape, y_train.shape, y_test.shape)"
      ],
      "execution_count": 12,
      "outputs": [
        {
          "output_type": "stream",
          "name": "stdout",
          "text": [
            "(850,) (150,) (850,) (150,)\n"
          ]
        }
      ]
    },
    {
      "cell_type": "code",
      "metadata": {
        "id": "BTmqMgbU4gBk"
      },
      "source": [
        "#Tf-Idf\n",
        "tfidf_vectorizer = TfidfVectorizer(use_idf=True)\n",
        "X_train_vectors_tfidf = tfidf_vectorizer.fit_transform(X_train) \n",
        "X_test_vectors_tfidf = tfidf_vectorizer.transform(X_test)"
      ],
      "execution_count": 13,
      "outputs": []
    },
    {
      "cell_type": "code",
      "metadata": {
        "colab": {
          "base_uri": "https://localhost:8080/",
          "height": 53
        },
        "id": "lei4Ap9t6MLr",
        "outputId": "bc062a93-f9c8-461f-be53-fc295ffce991"
      },
      "source": [
        "#FITTING THE CLASSIFICATION MODEL using Naive Bayes(tf-idf)\n",
        "nb_tfidf = MultinomialNB()\n",
        "nb_tfidf.fit(X_train_vectors_tfidf, y_train)  \n",
        "#Predict y value for test dataset\n",
        "y_predict = nb_tfidf.predict(X_test_vectors_tfidf)\n",
        "y_prob = nb_tfidf.predict_proba(X_test_vectors_tfidf)[:,1]\n",
        "#print(classification_report(y_test,y_predict))\n",
        "#print('Confusion Matrix:',confusion_matrix(y_test, y_predict))\n",
        "\n",
        "print(accuracy_score(y_test, y_predict))\n",
        " \n",
        "'''fpr, tpr, thresholds = roc_curve(y_test, y_prob)\n",
        "roc_auc = auc(fpr, tpr)\n",
        "print('AUC:', roc_auc)'''"
      ],
      "execution_count": 15,
      "outputs": [
        {
          "output_type": "stream",
          "name": "stdout",
          "text": [
            "0.05333333333333334\n"
          ]
        },
        {
          "output_type": "execute_result",
          "data": {
            "application/vnd.google.colaboratory.intrinsic+json": {
              "type": "string"
            },
            "text/plain": [
              "\"fpr, tpr, thresholds = roc_curve(y_test, y_prob)\\nroc_auc = auc(fpr, tpr)\\nprint('AUC:', roc_auc)\""
            ]
          },
          "metadata": {},
          "execution_count": 15
        }
      ]
    },
    {
      "cell_type": "code",
      "metadata": {
        "colab": {
          "base_uri": "https://localhost:8080/"
        },
        "id": "Q-F-XeIu5uXQ",
        "outputId": "5e36f213-56d2-4a52-c2a7-5217f92a02ae"
      },
      "source": [
        "#FITTING THE CLASSIFICATION MODEL using Logistic Regression(tf-idf)\n",
        "lr_tfidf=LogisticRegression()\n",
        "lr_tfidf.fit(X_train_vectors_tfidf, y_train)  \n",
        "#Predict y value for test dataset\n",
        "y_predict = lr_tfidf.predict(X_test_vectors_tfidf)\n",
        "y_prob = lr_tfidf.predict_proba(X_test_vectors_tfidf)[:,1]\n",
        "#print(classification_report(y_test,y_predict))\n",
        "#print('Confusion Matrix:',confusion_matrix(y_test, y_predict))\n",
        "\n",
        "print(accuracy_score(y_test, y_predict))"
      ],
      "execution_count": 16,
      "outputs": [
        {
          "output_type": "stream",
          "name": "stdout",
          "text": [
            "0.05333333333333334\n"
          ]
        }
      ]
    },
    {
      "cell_type": "code",
      "source": [
        "from collections import Counter\n",
        "counter = Counter(nlp_df['Genre'].tolist())\n",
        "top_10_varieties = {i[0]: idx for idx, i in enumerate(counter.most_common(10))}\n",
        "nlp_df = nlp_df[nlp_df['Genre'].map(lambda x: x in top_10_varieties)]"
      ],
      "metadata": {
        "id": "ZNsZWlABb87E"
      },
      "execution_count": 21,
      "outputs": []
    },
    {
      "cell_type": "code",
      "source": [
        "description_list = nlp_df['clean_text'].tolist()\n",
        "varietal_list = [top_10_varieties[i] for i in nlp_df['Genre'].tolist()]\n",
        "varietal_list = np.array(varietal_list)\n",
        "varietal_list"
      ],
      "metadata": {
        "id": "R_Fg2ueyb8zC",
        "outputId": "bff4b28c-5609-475a-b0bc-236a27c1ef0f",
        "colab": {
          "base_uri": "https://localhost:8080/"
        }
      },
      "execution_count": 24,
      "outputs": [
        {
          "output_type": "execute_result",
          "data": {
            "text/plain": [
              "array([0, 9, 0, 5, 9, 9, 9, 8, 0, 1, 0, 6, 9, 3, 4, 6, 5, 6, 0, 5, 1, 0,\n",
              "       3, 8, 0, 6, 8, 7, 2, 9, 4, 4, 3, 5, 5, 6, 0, 0, 0, 0, 0, 1, 7, 8,\n",
              "       6, 8, 9, 9, 3, 0, 0, 4, 7, 0, 4, 5, 0, 2, 7, 0, 4, 0, 7, 0, 8, 4,\n",
              "       6, 6, 9, 9, 8, 1, 0, 4, 0, 1, 6, 4, 0, 5, 7, 0, 8, 7, 3, 8, 4, 5,\n",
              "       0, 6, 3, 0, 8, 1, 2, 4, 3, 5, 7, 7, 0, 2, 1, 0, 6, 9, 1, 1, 2, 0,\n",
              "       0, 0, 0, 4, 9, 8, 0, 8, 9, 0, 6, 6, 5, 3, 2, 8, 1, 2, 7, 6, 0, 5,\n",
              "       8, 0, 3, 0, 1, 5, 7, 0, 1, 8, 5, 3, 9, 2, 0, 0, 0, 2, 9, 0, 7, 2,\n",
              "       0, 0, 8, 2, 8, 1, 0, 3, 0, 0, 0, 2, 4, 0, 0, 0, 4, 1, 2, 9, 3, 2,\n",
              "       1, 0, 7, 2, 1, 9, 1, 3, 0, 9, 3, 0, 0, 7, 2, 1, 4, 6, 0, 7, 7, 0,\n",
              "       9, 6, 2, 6, 2, 3, 2, 3, 8, 4, 1, 0, 3, 4, 2, 8, 7, 5, 0, 4, 1, 6,\n",
              "       0, 1, 4, 3, 5, 4, 5, 8, 4, 4, 2, 0, 9, 2, 1, 7, 0, 1, 9, 1, 0, 0,\n",
              "       1, 2, 5, 9, 8, 5, 0, 2, 8, 0, 1, 6, 5, 0, 2, 1, 9, 3, 5, 4, 5, 7,\n",
              "       0, 1, 4, 0, 3, 1, 2, 2, 1, 7, 7, 0, 7, 3, 3, 7, 8, 3, 7, 9, 0, 8,\n",
              "       4, 6, 7, 1, 5, 6, 2, 5, 0, 3, 0, 2, 6, 2, 6, 6, 3, 3, 1, 4, 0, 1,\n",
              "       0, 2, 0, 8, 7, 4, 2, 0, 6, 7, 8, 4, 0, 0, 5, 5, 1, 8, 0, 3, 8, 2,\n",
              "       0, 0, 0, 5, 7, 5, 9, 5, 1, 7, 3, 0, 0, 5, 4, 4, 6, 0, 2, 6, 6, 0,\n",
              "       0, 2, 0, 1, 3, 9, 3, 2, 6, 3])"
            ]
          },
          "metadata": {},
          "execution_count": 24
        }
      ]
    },
    {
      "cell_type": "code",
      "source": [
        "count_vect = CountVectorizer()\n",
        "x_train_counts = count_vect.fit_transform(description_list)"
      ],
      "metadata": {
        "id": "4-3ahzkxb8so"
      },
      "execution_count": 25,
      "outputs": []
    },
    {
      "cell_type": "code",
      "source": [
        "tfidf_transformer = TfidfTransformer()\n",
        "x_train_tfidf = tfidf_transformer.fit_transform(x_train_counts)"
      ],
      "metadata": {
        "id": "lzwHYGadb8lU"
      },
      "execution_count": 28,
      "outputs": []
    },
    {
      "cell_type": "code",
      "source": [
        "train_x, test_x, train_y, test_y = train_test_split(x_train_tfidf, varietal_list, test_size=0.3)"
      ],
      "metadata": {
        "id": "oZGip8KVdPHI"
      },
      "execution_count": 29,
      "outputs": []
    },
    {
      "cell_type": "code",
      "source": [
        "clf = MultinomialNB().fit(train_x, train_y)\n",
        "y_score = clf.predict(test_x)"
      ],
      "metadata": {
        "id": "ViMyZHhSdPFa"
      },
      "execution_count": 30,
      "outputs": []
    },
    {
      "cell_type": "code",
      "source": [
        "n_right = 0\n",
        "for i in range(len(y_score)):\n",
        "    if y_score[i] == test_y[i]:\n",
        "        n_right += 1\n",
        "\n",
        "print(\"Accuracy: %.2f%%\" % ((n_right/float(len(test_y)) * 100)))"
      ],
      "metadata": {
        "id": "cwTSiK4UdPBf",
        "outputId": "edad8030-f61c-4070-e6b5-4217d5409b6e",
        "colab": {
          "base_uri": "https://localhost:8080/"
        }
      },
      "execution_count": 31,
      "outputs": [
        {
          "output_type": "stream",
          "name": "stdout",
          "text": [
            "Accuracy: 27.52%\n"
          ]
        }
      ]
    },
    {
      "cell_type": "code",
      "source": [
        "from sklearn.svm import SVC\n",
        "clf = SVC(kernel='linear').fit(train_x, train_y)"
      ],
      "metadata": {
        "id": "E0NFlRgDdO_1"
      },
      "execution_count": 34,
      "outputs": []
    },
    {
      "cell_type": "code",
      "source": [
        "y_score = clf.predict(test_x)\n",
        "n_right = 0\n",
        "for i in range(len(y_score)):\n",
        "    if y_score[i] == test_y[i]:\n",
        "        n_right += 1\n",
        "\n",
        "print(\"Accuracy: %.2f%%\" % ((n_right/float(len(test_y)) * 100)))"
      ],
      "metadata": {
        "id": "qeZYlcn_dyMl",
        "outputId": "5811cbc7-e303-4d84-dc8c-7e271820091b",
        "colab": {
          "base_uri": "https://localhost:8080/"
        }
      },
      "execution_count": 35,
      "outputs": [
        {
          "output_type": "stream",
          "name": "stdout",
          "text": [
            "Accuracy: 28.44%\n"
          ]
        }
      ]
    },
    {
      "cell_type": "code",
      "source": [
        ""
      ],
      "metadata": {
        "id": "voFIMGS6b8cB"
      },
      "execution_count": null,
      "outputs": []
    }
  ]
}