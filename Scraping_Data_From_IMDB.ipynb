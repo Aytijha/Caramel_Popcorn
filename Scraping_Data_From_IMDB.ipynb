{
  "nbformat": 4,
  "nbformat_minor": 0,
  "metadata": {
    "colab": {
      "name": "Scraping Data From IMDB.ipynb",
      "provenance": [],
      "authorship_tag": "ABX9TyPzPr0gSv4xkIxgIu5a4NHC",
      "include_colab_link": true
    },
    "kernelspec": {
      "name": "python3",
      "display_name": "Python 3"
    },
    "language_info": {
      "name": "python"
    }
  },
  "cells": [
    {
      "cell_type": "markdown",
      "metadata": {
        "id": "view-in-github",
        "colab_type": "text"
      },
      "source": [
        "<a href=\"https://colab.research.google.com/github/Aytijha/GrabYourPopcorn_Cine_Rater/blob/main/Scraping_Data_From_IMDB.ipynb\" target=\"_parent\"><img src=\"https://colab.research.google.com/assets/colab-badge.svg\" alt=\"Open In Colab\"/></a>"
      ]
    },
    {
      "cell_type": "code",
      "metadata": {
        "id": "wZfdMg6vqkL0"
      },
      "source": [
        "import pandas as pd\n",
        "# to create the dataframe\n",
        "import requests\n",
        "# to send request to the URL\n",
        "from bs4 import BeautifulSoup\n",
        "# to get the content in the form of HTML\n",
        "import numpy as np\n",
        "# to handle lists and values"
      ],
      "execution_count": 2,
      "outputs": []
    },
    {
      "cell_type": "code",
      "metadata": {
        "id": "K95jv5cUtHjo"
      },
      "source": [
        "url = 'https://www.imdb.com/search/title/?count=100&groups=top_1000&sort=user_rating' # assigning the url\n",
        "response = requests.get(url) # sending an HTTP request\n",
        "soup = BeautifulSoup(response.content, 'html.parser') # parsing the recieved content into HTML language"
      ],
      "execution_count": 3,
      "outputs": []
    },
    {
      "cell_type": "code",
      "metadata": {
        "id": "L0fzdD3huEkD"
      },
      "source": [
        "# lists to store the various attributes of each movie\n",
        "movie_name = []\n",
        "year = []\n",
        "time = []\n",
        "rating = []\n",
        "metascore = []\n",
        "votes = []\n",
        "gross = []\n",
        "description = []\n",
        "Director = []\n",
        "Stars = []"
      ],
      "execution_count": 4,
      "outputs": []
    },
    {
      "cell_type": "code",
      "metadata": {
        "id": "ukum9bPZuRZ9"
      },
      "source": [
        ""
      ],
      "execution_count": null,
      "outputs": []
    }
  ]
}