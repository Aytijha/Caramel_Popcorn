{
  "nbformat": 4,
  "nbformat_minor": 0,
  "metadata": {
    "colab": {
      "name": "EDA.ipynb",
      "provenance": [],
      "authorship_tag": "ABX9TyNVeZ2ZklteQjs0Q3VeQgK+",
      "include_colab_link": true
    },
    "kernelspec": {
      "name": "python3",
      "display_name": "Python 3"
    },
    "language_info": {
      "name": "python"
    }
  },
  "cells": [
    {
      "cell_type": "markdown",
      "metadata": {
        "id": "view-in-github",
        "colab_type": "text"
      },
      "source": [
        "<a href=\"https://colab.research.google.com/github/Aytijha/GrabYourPopcorn_Cine_Analysis/blob/main/EDA.ipynb\" target=\"_parent\"><img src=\"https://colab.research.google.com/assets/colab-badge.svg\" alt=\"Open In Colab\"/></a>"
      ]
    },
    {
      "cell_type": "code",
      "metadata": {
        "id": "tTEh8qzeI6Uf"
      },
      "source": [
        "import pandas as pd\n",
        "movie_df = pd.read_csv('Movie DF.csv')"
      ],
      "execution_count": 1,
      "outputs": []
    },
    {
      "cell_type": "code",
      "metadata": {
        "colab": {
          "base_uri": "https://localhost:8080/",
          "height": 614
        },
        "id": "5ocKmHabJVmX",
        "outputId": "6554b897-63d0-483a-b244-e89e561ef886"
      },
      "source": [
        "movie_df"
      ],
      "execution_count": 2,
      "outputs": [
        {
          "output_type": "execute_result",
          "data": {
            "text/html": [
              "<div>\n",
              "<style scoped>\n",
              "    .dataframe tbody tr th:only-of-type {\n",
              "        vertical-align: middle;\n",
              "    }\n",
              "\n",
              "    .dataframe tbody tr th {\n",
              "        vertical-align: top;\n",
              "    }\n",
              "\n",
              "    .dataframe thead th {\n",
              "        text-align: right;\n",
              "    }\n",
              "</style>\n",
              "<table border=\"1\" class=\"dataframe\">\n",
              "  <thead>\n",
              "    <tr style=\"text-align: right;\">\n",
              "      <th></th>\n",
              "      <th>Unnamed: 0</th>\n",
              "      <th>Name of movie</th>\n",
              "      <th>Year of relase</th>\n",
              "      <th>Description</th>\n",
              "      <th>Director</th>\n",
              "      <th>Genre</th>\n",
              "      <th>Star</th>\n",
              "      <th>Watchtime</th>\n",
              "      <th>Votes</th>\n",
              "      <th>Gross collection</th>\n",
              "      <th>Movie Rating</th>\n",
              "      <th>Metascore</th>\n",
              "    </tr>\n",
              "  </thead>\n",
              "  <tbody>\n",
              "    <tr>\n",
              "      <th>0</th>\n",
              "      <td>0</td>\n",
              "      <td>The Shawshank Redemption</td>\n",
              "      <td>1994</td>\n",
              "      <td>Two imprisoned men bond over a number of years...</td>\n",
              "      <td>R</td>\n",
              "      <td>Drama</td>\n",
              "      <td>['142 min']</td>\n",
              "      <td>142</td>\n",
              "      <td>2,461,622</td>\n",
              "      <td>$28.34M</td>\n",
              "      <td>9.3</td>\n",
              "      <td>80</td>\n",
              "    </tr>\n",
              "    <tr>\n",
              "      <th>1</th>\n",
              "      <td>1</td>\n",
              "      <td>The Godfather</td>\n",
              "      <td>1972</td>\n",
              "      <td>An organized crime dynasty's aging patriarch t...</td>\n",
              "      <td>R</td>\n",
              "      <td>Crime Drama</td>\n",
              "      <td>['175 min']</td>\n",
              "      <td>175</td>\n",
              "      <td>1,702,572</td>\n",
              "      <td>$134.97M</td>\n",
              "      <td>9.2</td>\n",
              "      <td>100</td>\n",
              "    </tr>\n",
              "    <tr>\n",
              "      <th>2</th>\n",
              "      <td>2</td>\n",
              "      <td>Soorarai Pottru</td>\n",
              "      <td>2020</td>\n",
              "      <td>Nedumaaran Rajangam \"Maara\" sets out to make t...</td>\n",
              "      <td>TV-MA</td>\n",
              "      <td>Drama</td>\n",
              "      <td>['153 min']</td>\n",
              "      <td>153</td>\n",
              "      <td>89,824</td>\n",
              "      <td>*****</td>\n",
              "      <td>9.1</td>\n",
              "      <td>^^^^^^</td>\n",
              "    </tr>\n",
              "    <tr>\n",
              "      <th>3</th>\n",
              "      <td>3</td>\n",
              "      <td>The Dark Knight</td>\n",
              "      <td>2008</td>\n",
              "      <td>When the menace known as the Joker wreaks havo...</td>\n",
              "      <td>PG-13</td>\n",
              "      <td>Action Crime Drama</td>\n",
              "      <td>['152 min']</td>\n",
              "      <td>152</td>\n",
              "      <td>2,416,879</td>\n",
              "      <td>$534.86M</td>\n",
              "      <td>9.0</td>\n",
              "      <td>84</td>\n",
              "    </tr>\n",
              "    <tr>\n",
              "      <th>4</th>\n",
              "      <td>4</td>\n",
              "      <td>The Godfather: Part II</td>\n",
              "      <td>1974</td>\n",
              "      <td>The early life and career of Vito Corleone in ...</td>\n",
              "      <td>R</td>\n",
              "      <td>Crime Drama</td>\n",
              "      <td>['202 min']</td>\n",
              "      <td>202</td>\n",
              "      <td>1,182,565</td>\n",
              "      <td>$57.30M</td>\n",
              "      <td>9.0</td>\n",
              "      <td>90</td>\n",
              "    </tr>\n",
              "    <tr>\n",
              "      <th>...</th>\n",
              "      <td>...</td>\n",
              "      <td>...</td>\n",
              "      <td>...</td>\n",
              "      <td>...</td>\n",
              "      <td>...</td>\n",
              "      <td>...</td>\n",
              "      <td>...</td>\n",
              "      <td>...</td>\n",
              "      <td>...</td>\n",
              "      <td>...</td>\n",
              "      <td>...</td>\n",
              "      <td>...</td>\n",
              "    </tr>\n",
              "    <tr>\n",
              "      <th>995</th>\n",
              "      <td>995</td>\n",
              "      <td>Giant</td>\n",
              "      <td>1956</td>\n",
              "      <td>Sprawling epic covering the life of a Texas ca...</td>\n",
              "      <td>G</td>\n",
              "      <td>Drama Western</td>\n",
              "      <td>['201 min']</td>\n",
              "      <td>201</td>\n",
              "      <td>37,034</td>\n",
              "      <td>*****</td>\n",
              "      <td>7.6</td>\n",
              "      <td>84</td>\n",
              "    </tr>\n",
              "    <tr>\n",
              "      <th>996</th>\n",
              "      <td>996</td>\n",
              "      <td>From Here to Eternity</td>\n",
              "      <td>1953</td>\n",
              "      <td>In Hawaii in 1941, a private is cruelly punish...</td>\n",
              "      <td>Passed</td>\n",
              "      <td>Drama Romance War</td>\n",
              "      <td>['118 min']</td>\n",
              "      <td>118</td>\n",
              "      <td>45,172</td>\n",
              "      <td>$30.50M</td>\n",
              "      <td>7.6</td>\n",
              "      <td>85</td>\n",
              "    </tr>\n",
              "    <tr>\n",
              "      <th>997</th>\n",
              "      <td>997</td>\n",
              "      <td>Gilda</td>\n",
              "      <td>1946</td>\n",
              "      <td>A small-time gambler hired to work in a Buenos...</td>\n",
              "      <td>Approved</td>\n",
              "      <td>Drama Film-Noir Romance</td>\n",
              "      <td>['110 min']</td>\n",
              "      <td>110</td>\n",
              "      <td>30,868</td>\n",
              "      <td>*****</td>\n",
              "      <td>7.6</td>\n",
              "      <td>^^^^^^</td>\n",
              "    </tr>\n",
              "    <tr>\n",
              "      <th>998</th>\n",
              "      <td>998</td>\n",
              "      <td>Lifeboat</td>\n",
              "      <td>1944</td>\n",
              "      <td>Several survivors of a torpedoed merchant ship...</td>\n",
              "      <td>Not Rated</td>\n",
              "      <td>Drama War</td>\n",
              "      <td>['97 min']</td>\n",
              "      <td>97</td>\n",
              "      <td>27,742</td>\n",
              "      <td>*****</td>\n",
              "      <td>7.6</td>\n",
              "      <td>78</td>\n",
              "    </tr>\n",
              "    <tr>\n",
              "      <th>999</th>\n",
              "      <td>999</td>\n",
              "      <td>The 39 Steps</td>\n",
              "      <td>1935</td>\n",
              "      <td>A man in London tries to help a counter-espion...</td>\n",
              "      <td>Approved</td>\n",
              "      <td>Crime Mystery Thriller</td>\n",
              "      <td>['86 min']</td>\n",
              "      <td>86</td>\n",
              "      <td>54,478</td>\n",
              "      <td>*****</td>\n",
              "      <td>7.6</td>\n",
              "      <td>93</td>\n",
              "    </tr>\n",
              "  </tbody>\n",
              "</table>\n",
              "<p>1000 rows × 12 columns</p>\n",
              "</div>"
            ],
            "text/plain": [
              "     Unnamed: 0             Name of movie  ... Movie Rating Metascore\n",
              "0             0  The Shawshank Redemption  ...          9.3        80\n",
              "1             1             The Godfather  ...          9.2       100\n",
              "2             2           Soorarai Pottru  ...          9.1    ^^^^^^\n",
              "3             3           The Dark Knight  ...          9.0        84\n",
              "4             4    The Godfather: Part II  ...          9.0        90\n",
              "..          ...                       ...  ...          ...       ...\n",
              "995         995                     Giant  ...          7.6        84\n",
              "996         996     From Here to Eternity  ...          7.6        85\n",
              "997         997                     Gilda  ...          7.6    ^^^^^^\n",
              "998         998                  Lifeboat  ...          7.6        78\n",
              "999         999              The 39 Steps  ...          7.6        93\n",
              "\n",
              "[1000 rows x 12 columns]"
            ]
          },
          "metadata": {},
          "execution_count": 2
        }
      ]
    },
    {
      "cell_type": "code",
      "metadata": {
        "colab": {
          "base_uri": "https://localhost:8080/"
        },
        "id": "b_igFkVXJXCf",
        "outputId": "357af163-5199-472e-c3a6-468196632910"
      },
      "source": [
        "movie_df['Director'].value_counts()"
      ],
      "execution_count": 5,
      "outputs": [
        {
          "output_type": "execute_result",
          "data": {
            "text/plain": [
              "R            371\n",
              "Not Rated    177\n",
              "PG-13        164\n",
              "PG           144\n",
              "Passed        42\n",
              "G             42\n",
              "Approved      27\n",
              "TV-MA          5\n",
              "TV-PG          4\n",
              "GP             4\n",
              "Unrated        3\n",
              "96 min         2\n",
              "TV-14          2\n",
              "M              1\n",
              "152 min        1\n",
              "102 min        1\n",
              "103 min        1\n",
              "125 min        1\n",
              "109 min        1\n",
              "113 min        1\n",
              "110 min        1\n",
              "NC-17          1\n",
              "127 min        1\n",
              "112 min        1\n",
              "135 min        1\n",
              "128 min        1\n",
              "Name: Director, dtype: int64"
            ]
          },
          "metadata": {},
          "execution_count": 5
        }
      ]
    },
    {
      "cell_type": "code",
      "metadata": {
        "colab": {
          "base_uri": "https://localhost:8080/"
        },
        "id": "nwbYjKhvxMjv",
        "outputId": "3b841437-1c69-4803-a3df-e444ce0279da"
      },
      "source": [
        "ratings = ['R', 'PG-13', 'PG', 'G', 'TV-MA', 'TV-PG', 'GP', 'TV-14', 'M', 'NC-17', 'Not Rated']\n",
        "\n",
        "for i in range(len(movie_df['Director'])):\n",
        "  if movie_df['Director'][i] not in ratings:\n",
        "    movie_df['Director'][i] = 'Not Rated'"
      ],
      "execution_count": 12,
      "outputs": [
        {
          "output_type": "stream",
          "name": "stderr",
          "text": [
            "/usr/local/lib/python3.7/dist-packages/ipykernel_launcher.py:5: SettingWithCopyWarning: \n",
            "A value is trying to be set on a copy of a slice from a DataFrame\n",
            "\n",
            "See the caveats in the documentation: https://pandas.pydata.org/pandas-docs/stable/user_guide/indexing.html#returning-a-view-versus-a-copy\n",
            "  \"\"\"\n"
          ]
        }
      ]
    },
    {
      "cell_type": "code",
      "metadata": {
        "colab": {
          "base_uri": "https://localhost:8080/"
        },
        "id": "jEaLvARHyGji",
        "outputId": "edf6d6c8-6966-433c-e164-0fd591149673"
      },
      "source": [
        "movie_df['Director'].value_counts()"
      ],
      "execution_count": 13,
      "outputs": [
        {
          "output_type": "execute_result",
          "data": {
            "text/plain": [
              "R            371\n",
              "Not Rated    262\n",
              "PG-13        164\n",
              "PG           144\n",
              "G             42\n",
              "TV-MA          5\n",
              "TV-PG          4\n",
              "GP             4\n",
              "TV-14          2\n",
              "NC-17          1\n",
              "M              1\n",
              "Name: Director, dtype: int64"
            ]
          },
          "metadata": {},
          "execution_count": 13
        }
      ]
    },
    {
      "cell_type": "code",
      "metadata": {
        "id": "R13mxJYrzCfJ"
      },
      "source": [
        "movie_df.rename(columns={\"Movie Rating\": \"Stars\", \"Director\": \"Rating\"}, inplace=True)"
      ],
      "execution_count": 14,
      "outputs": []
    },
    {
      "cell_type": "code",
      "metadata": {
        "id": "NL8d9QoFz_Jn"
      },
      "source": [
        "movie_df.drop('Star', inplace=True, axis=1)"
      ],
      "execution_count": 15,
      "outputs": []
    },
    {
      "cell_type": "code",
      "metadata": {
        "colab": {
          "base_uri": "https://localhost:8080/",
          "height": 310
        },
        "id": "K38fxwqc0q7g",
        "outputId": "0a6fae8a-90f5-433d-acc2-81a486a49544"
      },
      "source": [
        "movie_df.drop('Year of relase', inplace=True, axis=1)"
      ],
      "execution_count": 19,
      "outputs": [
        {
          "output_type": "error",
          "ename": "KeyError",
          "evalue": "ignored",
          "traceback": [
            "\u001b[0;31m---------------------------------------------------------------------------\u001b[0m",
            "\u001b[0;31mKeyError\u001b[0m                                  Traceback (most recent call last)",
            "\u001b[0;32m<ipython-input-19-883a933205dc>\u001b[0m in \u001b[0;36m<module>\u001b[0;34m()\u001b[0m\n\u001b[0;32m----> 1\u001b[0;31m \u001b[0mmovie_df\u001b[0m\u001b[0;34m.\u001b[0m\u001b[0mdrop\u001b[0m\u001b[0;34m(\u001b[0m\u001b[0;34m'Year of relase'\u001b[0m\u001b[0;34m,\u001b[0m \u001b[0minplace\u001b[0m\u001b[0;34m=\u001b[0m\u001b[0;32mTrue\u001b[0m\u001b[0;34m,\u001b[0m \u001b[0maxis\u001b[0m\u001b[0;34m=\u001b[0m\u001b[0;36m1\u001b[0m\u001b[0;34m)\u001b[0m\u001b[0;34m\u001b[0m\u001b[0;34m\u001b[0m\u001b[0m\n\u001b[0m",
            "\u001b[0;32m/usr/local/lib/python3.7/dist-packages/pandas/core/frame.py\u001b[0m in \u001b[0;36mdrop\u001b[0;34m(self, labels, axis, index, columns, level, inplace, errors)\u001b[0m\n\u001b[1;32m   4172\u001b[0m             \u001b[0mlevel\u001b[0m\u001b[0;34m=\u001b[0m\u001b[0mlevel\u001b[0m\u001b[0;34m,\u001b[0m\u001b[0;34m\u001b[0m\u001b[0;34m\u001b[0m\u001b[0m\n\u001b[1;32m   4173\u001b[0m             \u001b[0minplace\u001b[0m\u001b[0;34m=\u001b[0m\u001b[0minplace\u001b[0m\u001b[0;34m,\u001b[0m\u001b[0;34m\u001b[0m\u001b[0;34m\u001b[0m\u001b[0m\n\u001b[0;32m-> 4174\u001b[0;31m             \u001b[0merrors\u001b[0m\u001b[0;34m=\u001b[0m\u001b[0merrors\u001b[0m\u001b[0;34m,\u001b[0m\u001b[0;34m\u001b[0m\u001b[0;34m\u001b[0m\u001b[0m\n\u001b[0m\u001b[1;32m   4175\u001b[0m         )\n\u001b[1;32m   4176\u001b[0m \u001b[0;34m\u001b[0m\u001b[0m\n",
            "\u001b[0;32m/usr/local/lib/python3.7/dist-packages/pandas/core/generic.py\u001b[0m in \u001b[0;36mdrop\u001b[0;34m(self, labels, axis, index, columns, level, inplace, errors)\u001b[0m\n\u001b[1;32m   3887\u001b[0m         \u001b[0;32mfor\u001b[0m \u001b[0maxis\u001b[0m\u001b[0;34m,\u001b[0m \u001b[0mlabels\u001b[0m \u001b[0;32min\u001b[0m \u001b[0maxes\u001b[0m\u001b[0;34m.\u001b[0m\u001b[0mitems\u001b[0m\u001b[0;34m(\u001b[0m\u001b[0;34m)\u001b[0m\u001b[0;34m:\u001b[0m\u001b[0;34m\u001b[0m\u001b[0;34m\u001b[0m\u001b[0m\n\u001b[1;32m   3888\u001b[0m             \u001b[0;32mif\u001b[0m \u001b[0mlabels\u001b[0m \u001b[0;32mis\u001b[0m \u001b[0;32mnot\u001b[0m \u001b[0;32mNone\u001b[0m\u001b[0;34m:\u001b[0m\u001b[0;34m\u001b[0m\u001b[0;34m\u001b[0m\u001b[0m\n\u001b[0;32m-> 3889\u001b[0;31m                 \u001b[0mobj\u001b[0m \u001b[0;34m=\u001b[0m \u001b[0mobj\u001b[0m\u001b[0;34m.\u001b[0m\u001b[0m_drop_axis\u001b[0m\u001b[0;34m(\u001b[0m\u001b[0mlabels\u001b[0m\u001b[0;34m,\u001b[0m \u001b[0maxis\u001b[0m\u001b[0;34m,\u001b[0m \u001b[0mlevel\u001b[0m\u001b[0;34m=\u001b[0m\u001b[0mlevel\u001b[0m\u001b[0;34m,\u001b[0m \u001b[0merrors\u001b[0m\u001b[0;34m=\u001b[0m\u001b[0merrors\u001b[0m\u001b[0;34m)\u001b[0m\u001b[0;34m\u001b[0m\u001b[0;34m\u001b[0m\u001b[0m\n\u001b[0m\u001b[1;32m   3890\u001b[0m \u001b[0;34m\u001b[0m\u001b[0m\n\u001b[1;32m   3891\u001b[0m         \u001b[0;32mif\u001b[0m \u001b[0minplace\u001b[0m\u001b[0;34m:\u001b[0m\u001b[0;34m\u001b[0m\u001b[0;34m\u001b[0m\u001b[0m\n",
            "\u001b[0;32m/usr/local/lib/python3.7/dist-packages/pandas/core/generic.py\u001b[0m in \u001b[0;36m_drop_axis\u001b[0;34m(self, labels, axis, level, errors)\u001b[0m\n\u001b[1;32m   3921\u001b[0m                 \u001b[0mnew_axis\u001b[0m \u001b[0;34m=\u001b[0m \u001b[0maxis\u001b[0m\u001b[0;34m.\u001b[0m\u001b[0mdrop\u001b[0m\u001b[0;34m(\u001b[0m\u001b[0mlabels\u001b[0m\u001b[0;34m,\u001b[0m \u001b[0mlevel\u001b[0m\u001b[0;34m=\u001b[0m\u001b[0mlevel\u001b[0m\u001b[0;34m,\u001b[0m \u001b[0merrors\u001b[0m\u001b[0;34m=\u001b[0m\u001b[0merrors\u001b[0m\u001b[0;34m)\u001b[0m\u001b[0;34m\u001b[0m\u001b[0;34m\u001b[0m\u001b[0m\n\u001b[1;32m   3922\u001b[0m             \u001b[0;32melse\u001b[0m\u001b[0;34m:\u001b[0m\u001b[0;34m\u001b[0m\u001b[0;34m\u001b[0m\u001b[0m\n\u001b[0;32m-> 3923\u001b[0;31m                 \u001b[0mnew_axis\u001b[0m \u001b[0;34m=\u001b[0m \u001b[0maxis\u001b[0m\u001b[0;34m.\u001b[0m\u001b[0mdrop\u001b[0m\u001b[0;34m(\u001b[0m\u001b[0mlabels\u001b[0m\u001b[0;34m,\u001b[0m \u001b[0merrors\u001b[0m\u001b[0;34m=\u001b[0m\u001b[0merrors\u001b[0m\u001b[0;34m)\u001b[0m\u001b[0;34m\u001b[0m\u001b[0;34m\u001b[0m\u001b[0m\n\u001b[0m\u001b[1;32m   3924\u001b[0m             \u001b[0mresult\u001b[0m \u001b[0;34m=\u001b[0m \u001b[0mself\u001b[0m\u001b[0;34m.\u001b[0m\u001b[0mreindex\u001b[0m\u001b[0;34m(\u001b[0m\u001b[0;34m**\u001b[0m\u001b[0;34m{\u001b[0m\u001b[0maxis_name\u001b[0m\u001b[0;34m:\u001b[0m \u001b[0mnew_axis\u001b[0m\u001b[0;34m}\u001b[0m\u001b[0;34m)\u001b[0m\u001b[0;34m\u001b[0m\u001b[0;34m\u001b[0m\u001b[0m\n\u001b[1;32m   3925\u001b[0m \u001b[0;34m\u001b[0m\u001b[0m\n",
            "\u001b[0;32m/usr/local/lib/python3.7/dist-packages/pandas/core/indexes/base.py\u001b[0m in \u001b[0;36mdrop\u001b[0;34m(self, labels, errors)\u001b[0m\n\u001b[1;32m   5285\u001b[0m         \u001b[0;32mif\u001b[0m \u001b[0mmask\u001b[0m\u001b[0;34m.\u001b[0m\u001b[0many\u001b[0m\u001b[0;34m(\u001b[0m\u001b[0;34m)\u001b[0m\u001b[0;34m:\u001b[0m\u001b[0;34m\u001b[0m\u001b[0;34m\u001b[0m\u001b[0m\n\u001b[1;32m   5286\u001b[0m             \u001b[0;32mif\u001b[0m \u001b[0merrors\u001b[0m \u001b[0;34m!=\u001b[0m \u001b[0;34m\"ignore\"\u001b[0m\u001b[0;34m:\u001b[0m\u001b[0;34m\u001b[0m\u001b[0;34m\u001b[0m\u001b[0m\n\u001b[0;32m-> 5287\u001b[0;31m                 \u001b[0;32mraise\u001b[0m \u001b[0mKeyError\u001b[0m\u001b[0;34m(\u001b[0m\u001b[0;34mf\"{labels[mask]} not found in axis\"\u001b[0m\u001b[0;34m)\u001b[0m\u001b[0;34m\u001b[0m\u001b[0;34m\u001b[0m\u001b[0m\n\u001b[0m\u001b[1;32m   5288\u001b[0m             \u001b[0mindexer\u001b[0m \u001b[0;34m=\u001b[0m \u001b[0mindexer\u001b[0m\u001b[0;34m[\u001b[0m\u001b[0;34m~\u001b[0m\u001b[0mmask\u001b[0m\u001b[0;34m]\u001b[0m\u001b[0;34m\u001b[0m\u001b[0;34m\u001b[0m\u001b[0m\n\u001b[1;32m   5289\u001b[0m         \u001b[0;32mreturn\u001b[0m \u001b[0mself\u001b[0m\u001b[0;34m.\u001b[0m\u001b[0mdelete\u001b[0m\u001b[0;34m(\u001b[0m\u001b[0mindexer\u001b[0m\u001b[0;34m)\u001b[0m\u001b[0;34m\u001b[0m\u001b[0;34m\u001b[0m\u001b[0m\n",
            "\u001b[0;31mKeyError\u001b[0m: \"['Year of relase'] not found in axis\""
          ]
        }
      ]
    },
    {
      "cell_type": "code",
      "metadata": {
        "id": "m0AKawGA05yp"
      },
      "source": [
        "movie_df.drop('Unnamed: 0', inplace=True, axis=1)"
      ],
      "execution_count": 20,
      "outputs": []
    },
    {
      "cell_type": "code",
      "metadata": {
        "colab": {
          "base_uri": "https://localhost:8080/",
          "height": 423
        },
        "id": "QX4ZPXIl0b5J",
        "outputId": "d6d3a9ad-1bc9-46b2-a225-84a2a2ade0d0"
      },
      "source": [
        "movie_df"
      ],
      "execution_count": 21,
      "outputs": [
        {
          "output_type": "execute_result",
          "data": {
            "text/html": [
              "<div>\n",
              "<style scoped>\n",
              "    .dataframe tbody tr th:only-of-type {\n",
              "        vertical-align: middle;\n",
              "    }\n",
              "\n",
              "    .dataframe tbody tr th {\n",
              "        vertical-align: top;\n",
              "    }\n",
              "\n",
              "    .dataframe thead th {\n",
              "        text-align: right;\n",
              "    }\n",
              "</style>\n",
              "<table border=\"1\" class=\"dataframe\">\n",
              "  <thead>\n",
              "    <tr style=\"text-align: right;\">\n",
              "      <th></th>\n",
              "      <th>Name of movie</th>\n",
              "      <th>Description</th>\n",
              "      <th>Rating</th>\n",
              "      <th>Genre</th>\n",
              "      <th>Watchtime</th>\n",
              "      <th>Votes</th>\n",
              "      <th>Gross collection</th>\n",
              "      <th>Stars</th>\n",
              "      <th>Metascore</th>\n",
              "    </tr>\n",
              "  </thead>\n",
              "  <tbody>\n",
              "    <tr>\n",
              "      <th>0</th>\n",
              "      <td>The Shawshank Redemption</td>\n",
              "      <td>Two imprisoned men bond over a number of years...</td>\n",
              "      <td>R</td>\n",
              "      <td>Drama</td>\n",
              "      <td>142</td>\n",
              "      <td>2,461,622</td>\n",
              "      <td>$28.34M</td>\n",
              "      <td>9.3</td>\n",
              "      <td>80</td>\n",
              "    </tr>\n",
              "    <tr>\n",
              "      <th>1</th>\n",
              "      <td>The Godfather</td>\n",
              "      <td>An organized crime dynasty's aging patriarch t...</td>\n",
              "      <td>R</td>\n",
              "      <td>Crime Drama</td>\n",
              "      <td>175</td>\n",
              "      <td>1,702,572</td>\n",
              "      <td>$134.97M</td>\n",
              "      <td>9.2</td>\n",
              "      <td>100</td>\n",
              "    </tr>\n",
              "    <tr>\n",
              "      <th>2</th>\n",
              "      <td>Soorarai Pottru</td>\n",
              "      <td>Nedumaaran Rajangam \"Maara\" sets out to make t...</td>\n",
              "      <td>TV-MA</td>\n",
              "      <td>Drama</td>\n",
              "      <td>153</td>\n",
              "      <td>89,824</td>\n",
              "      <td>*****</td>\n",
              "      <td>9.1</td>\n",
              "      <td>^^^^^^</td>\n",
              "    </tr>\n",
              "    <tr>\n",
              "      <th>3</th>\n",
              "      <td>The Dark Knight</td>\n",
              "      <td>When the menace known as the Joker wreaks havo...</td>\n",
              "      <td>PG-13</td>\n",
              "      <td>Action Crime Drama</td>\n",
              "      <td>152</td>\n",
              "      <td>2,416,879</td>\n",
              "      <td>$534.86M</td>\n",
              "      <td>9.0</td>\n",
              "      <td>84</td>\n",
              "    </tr>\n",
              "    <tr>\n",
              "      <th>4</th>\n",
              "      <td>The Godfather: Part II</td>\n",
              "      <td>The early life and career of Vito Corleone in ...</td>\n",
              "      <td>R</td>\n",
              "      <td>Crime Drama</td>\n",
              "      <td>202</td>\n",
              "      <td>1,182,565</td>\n",
              "      <td>$57.30M</td>\n",
              "      <td>9.0</td>\n",
              "      <td>90</td>\n",
              "    </tr>\n",
              "    <tr>\n",
              "      <th>...</th>\n",
              "      <td>...</td>\n",
              "      <td>...</td>\n",
              "      <td>...</td>\n",
              "      <td>...</td>\n",
              "      <td>...</td>\n",
              "      <td>...</td>\n",
              "      <td>...</td>\n",
              "      <td>...</td>\n",
              "      <td>...</td>\n",
              "    </tr>\n",
              "    <tr>\n",
              "      <th>995</th>\n",
              "      <td>Giant</td>\n",
              "      <td>Sprawling epic covering the life of a Texas ca...</td>\n",
              "      <td>G</td>\n",
              "      <td>Drama Western</td>\n",
              "      <td>201</td>\n",
              "      <td>37,034</td>\n",
              "      <td>*****</td>\n",
              "      <td>7.6</td>\n",
              "      <td>84</td>\n",
              "    </tr>\n",
              "    <tr>\n",
              "      <th>996</th>\n",
              "      <td>From Here to Eternity</td>\n",
              "      <td>In Hawaii in 1941, a private is cruelly punish...</td>\n",
              "      <td>Not Rated</td>\n",
              "      <td>Drama Romance War</td>\n",
              "      <td>118</td>\n",
              "      <td>45,172</td>\n",
              "      <td>$30.50M</td>\n",
              "      <td>7.6</td>\n",
              "      <td>85</td>\n",
              "    </tr>\n",
              "    <tr>\n",
              "      <th>997</th>\n",
              "      <td>Gilda</td>\n",
              "      <td>A small-time gambler hired to work in a Buenos...</td>\n",
              "      <td>Not Rated</td>\n",
              "      <td>Drama Film-Noir Romance</td>\n",
              "      <td>110</td>\n",
              "      <td>30,868</td>\n",
              "      <td>*****</td>\n",
              "      <td>7.6</td>\n",
              "      <td>^^^^^^</td>\n",
              "    </tr>\n",
              "    <tr>\n",
              "      <th>998</th>\n",
              "      <td>Lifeboat</td>\n",
              "      <td>Several survivors of a torpedoed merchant ship...</td>\n",
              "      <td>Not Rated</td>\n",
              "      <td>Drama War</td>\n",
              "      <td>97</td>\n",
              "      <td>27,742</td>\n",
              "      <td>*****</td>\n",
              "      <td>7.6</td>\n",
              "      <td>78</td>\n",
              "    </tr>\n",
              "    <tr>\n",
              "      <th>999</th>\n",
              "      <td>The 39 Steps</td>\n",
              "      <td>A man in London tries to help a counter-espion...</td>\n",
              "      <td>Not Rated</td>\n",
              "      <td>Crime Mystery Thriller</td>\n",
              "      <td>86</td>\n",
              "      <td>54,478</td>\n",
              "      <td>*****</td>\n",
              "      <td>7.6</td>\n",
              "      <td>93</td>\n",
              "    </tr>\n",
              "  </tbody>\n",
              "</table>\n",
              "<p>1000 rows × 9 columns</p>\n",
              "</div>"
            ],
            "text/plain": [
              "                Name of movie  ... Metascore\n",
              "0    The Shawshank Redemption  ...        80\n",
              "1               The Godfather  ...       100\n",
              "2             Soorarai Pottru  ...    ^^^^^^\n",
              "3             The Dark Knight  ...        84\n",
              "4      The Godfather: Part II  ...        90\n",
              "..                        ...  ...       ...\n",
              "995                     Giant  ...        84\n",
              "996     From Here to Eternity  ...        85\n",
              "997                     Gilda  ...    ^^^^^^\n",
              "998                  Lifeboat  ...        78\n",
              "999              The 39 Steps  ...        93\n",
              "\n",
              "[1000 rows x 9 columns]"
            ]
          },
          "metadata": {},
          "execution_count": 21
        }
      ]
    },
    {
      "cell_type": "code",
      "metadata": {
        "id": "SsxnIMrm0c42"
      },
      "source": [
        ""
      ],
      "execution_count": null,
      "outputs": []
    }
  ]
}