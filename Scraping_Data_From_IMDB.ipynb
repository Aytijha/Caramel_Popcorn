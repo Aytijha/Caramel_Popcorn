{
  "nbformat": 4,
  "nbformat_minor": 0,
  "metadata": {
    "colab": {
      "name": "Scraping Data From IMDB.ipynb",
      "provenance": [],
      "authorship_tag": "ABX9TyPGWQ3TOWiyMSMhBwK1vM5S"
    },
    "kernelspec": {
      "name": "python3",
      "display_name": "Python 3"
    },
    "language_info": {
      "name": "python"
    }
  },
  "cells": [
    {
      "cell_type": "code",
      "metadata": {
        "id": "wZfdMg6vqkL0"
      },
      "source": [
        "import pandas as pd\n",
        "# to create the dataframe\n",
        "import requests\n",
        "# to send request to the URL\n",
        "from bs4 import BeautifulSoup\n",
        "# to get the content in the form of HTML\n",
        "import numpy as np\n",
        "# to handle lists and values"
      ],
      "execution_count": 2,
      "outputs": []
    },
    {
      "cell_type": "code",
      "metadata": {
        "id": "K95jv5cUtHjo"
      },
      "source": [
        ""
      ],
      "execution_count": null,
      "outputs": []
    }
  ]
}